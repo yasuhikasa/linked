{
 "cells": [
  {
   "cell_type": "code",
   "execution_count": 1,
   "id": "27848ee8-84eb-4cf8-ba9a-886dbb7bd062",
   "metadata": {},
   "outputs": [],
   "source": [
    "#読み込みを始めるスプレッドシートの行を設定\n",
    "i=2\n"
   ]
  },
  {
   "cell_type": "code",
   "execution_count": 2,
   "id": "077d94c4-1136-4631-be37-2805747d816c",
   "metadata": {},
   "outputs": [],
   "source": [
    "#つながり申請を行う人数を入力してください\n",
    "number_of_people = 2"
   ]
  },
  {
   "cell_type": "code",
   "execution_count": 3,
   "id": "103e3aff-c952-4482-b12a-0f7546f9cf43",
   "metadata": {},
   "outputs": [],
   "source": [
    "#linkedinユーザーアカウント\n",
    "#u_name=\"subchan.yama@divx.co.jp\"\n",
    "u_name=\"yasuhikasa@yahoo.co.jp\"\n",
    "\n",
    "#linkedinパスワード\n",
    "#u_password=\"Issue-zero\"\n",
    "u_password=\"yasu0118\""
   ]
  },
  {
   "cell_type": "code",
   "execution_count": 4,
   "id": "c9222174-89f6-43e1-94fd-0025e10beb6d",
   "metadata": {},
   "outputs": [],
   "source": [
    "#スプレッドシートを扱うライブラリ（gspread）のインストール\n",
    "import gspread\n",
    "from oauth2client.service_account import ServiceAccountCredentials"
   ]
  },
  {
   "cell_type": "code",
   "execution_count": 5,
   "id": "bb8b4abf-2a5d-4be3-965e-dd307bdba474",
   "metadata": {},
   "outputs": [],
   "source": [
    "#認証情報を取得\n",
    "\n",
    "scope = ['https://spreadsheets.google.com/feeds','https://www.googleapis.com/auth/drive']\n",
    "\n",
    "#jsonファイルを設定\n",
    "credentials = ServiceAccountCredentials.from_json_keyfile_name('saitou.json', scope)\n",
    "\n",
    "#↓日笠用\n",
    "#credentials = ServiceAccountCredentials.from_json_keyfile_name('myprojexttest-356514-99f5278c6d45.json', scope)"
   ]
  },
  {
   "cell_type": "code",
   "execution_count": 6,
   "id": "0f9f7796-47cf-4a69-9944-273dc54ba932",
   "metadata": {},
   "outputs": [],
   "source": [
    "gs = gspread.authorize(credentials)\n",
    "#本番用\n",
    "#SPREADSHEET_KEY = '1sT2GuCt93XJdlCMe31d5khZRCm3JQzTIyfHRZM460n0'\n",
    "\n",
    "#日笠テスト用\n",
    "SPREADSHEET_KEY = '1wgQVOpSfC62qipwVh2m76MMERSHqv4OhlugpH5ikIyk' \n",
    "\n",
    "worksheet = gs.open_by_key(SPREADSHEET_KEY).worksheet(\"ブートキャンプTリスト\")"
   ]
  },
  {
   "cell_type": "code",
   "execution_count": 7,
   "id": "51669b99-8a86-4ae4-b4d0-773b6f24e5ec",
   "metadata": {},
   "outputs": [],
   "source": [
    "#日付を取得\n",
    "import datetime"
   ]
  },
  {
   "cell_type": "code",
   "execution_count": 8,
   "id": "362a51e9-4dda-4d17-b22d-f6161d77389e",
   "metadata": {},
   "outputs": [
    {
     "name": "stdout",
     "output_type": "stream",
     "text": [
      "datetime.datetime(2022, 8, 11, 22, 5, 31, 990862, tzinfo=datetime.timezone(datetime.timedelta(seconds=32400), 'JST'))\n"
     ]
    }
   ],
   "source": [
    "t_delta = datetime.timedelta(hours=9)\n",
    "JST = datetime.timezone(t_delta, 'JST')\n",
    "now = datetime.datetime.now(JST)\n",
    "print(repr(now))"
   ]
  },
  {
   "cell_type": "code",
   "execution_count": 9,
   "id": "936b3117-d85e-480c-b04c-8639edd68aee",
   "metadata": {},
   "outputs": [
    {
     "name": "stdout",
     "output_type": "stream",
     "text": [
      "2022/08/11\n"
     ]
    }
   ],
   "source": [
    "# 日付のみを書式化\n",
    "d = now.date().strftime('%Y/%m/%d')\n",
    "print(d)  # 2021/11/04"
   ]
  },
  {
   "cell_type": "code",
   "execution_count": 10,
   "id": "7242e3ce-06cc-4517-a79e-7a9173d2fa76",
   "metadata": {},
   "outputs": [],
   "source": [
    "#seleniumをインストール\n",
    "from selenium import webdriver\n",
    "from time import sleep\n",
    "from selenium.webdriver.common.by import By\n",
    "from selenium.webdriver.common.keys import Keys"
   ]
  },
  {
   "cell_type": "code",
   "execution_count": 11,
   "id": "18acfe5e-076a-4186-b315-bdd8bbe8be1f",
   "metadata": {},
   "outputs": [],
   "source": [
    "#chromedriverをインストール\n",
    "from webdriver_manager.chrome import ChromeDriverManager"
   ]
  },
  {
   "cell_type": "code",
   "execution_count": 12,
   "id": "dd90dc0b-3e6b-4408-a37e-15750db46c35",
   "metadata": {},
   "outputs": [
    {
     "data": {
      "text/plain": [
       "'/Users/divx/opt/anaconda3/lib/python3.9/site-packages/chromedriver_autoinstaller/104/chromedriver'"
      ]
     },
     "execution_count": 12,
     "metadata": {},
     "output_type": "execute_result"
    }
   ],
   "source": [
    "import chromedriver_autoinstaller as chromedriver\n",
    "chromedriver.install()"
   ]
  },
  {
   "cell_type": "code",
   "execution_count": 13,
   "id": "9518b4cb-ebad-47bd-ae20-6079653c1a01",
   "metadata": {},
   "outputs": [],
   "source": [
    "import requests"
   ]
  },
  {
   "cell_type": "code",
   "execution_count": 14,
   "id": "6cf20885-0e69-42f4-90d4-d8c2ce7e28bc",
   "metadata": {},
   "outputs": [
    {
     "name": "stdout",
     "output_type": "stream",
     "text": [
      "{\n",
      "  \"headers\": {\n",
      "    \"Accept\": \"*/*\", \n",
      "    \"Accept-Encoding\": \"gzip, deflate, br\", \n",
      "    \"Host\": \"httpbin.org\", \n",
      "    \"User-Agent\": \"python-requests/2.27.1\", \n",
      "    \"X-Amzn-Trace-Id\": \"Root=1-62f4fe9f-1ac08004037f4eda3596af34\"\n",
      "  }\n",
      "}\n",
      "\n"
     ]
    }
   ],
   "source": [
    "url = \"https://httpbin.org/headers\"\n",
    "r = requests.get(url)\n",
    "print(r.text)"
   ]
  },
  {
   "cell_type": "code",
   "execution_count": 15,
   "id": "a97805b6-5b44-4029-ae85-42979e7cd6ea",
   "metadata": {},
   "outputs": [
    {
     "name": "stderr",
     "output_type": "stream",
     "text": [
      "WARNING:fake_useragent:Error occurred during loading data. Trying to use cache server https://fake-useragent.herokuapp.com/browsers/0.1.11\n",
      "Traceback (most recent call last):\n",
      "  File \"/Users/divx/opt/anaconda3/lib/python3.9/site-packages/fake_useragent/utils.py\", line 154, in load\n",
      "    for item in get_browsers(verify_ssl=verify_ssl):\n",
      "  File \"/Users/divx/opt/anaconda3/lib/python3.9/site-packages/fake_useragent/utils.py\", line 99, in get_browsers\n",
      "    html = html.split('<table class=\"w3-table-all notranslate\">')[1]\n",
      "IndexError: list index out of range\n"
     ]
    },
    {
     "name": "stdout",
     "output_type": "stream",
     "text": [
      "{\n",
      "  \"headers\": {\n",
      "    \"Accept\": \"*/*\", \n",
      "    \"Accept-Encoding\": \"gzip, deflate, br\", \n",
      "    \"Host\": \"httpbin.org\", \n",
      "    \"User-Agent\": \"Mozilla/5.0 (X11; Linux x86_64) AppleWebKit/537.36 (KHTML, like Gecko) Chrome/33.0.1750.517 Safari/537.36\", \n",
      "    \"X-Amzn-Trace-Id\": \"Root=1-62f4fea5-2b97e643437ef92a10542819\"\n",
      "  }\n",
      "}\n",
      "\n"
     ]
    }
   ],
   "source": [
    "#fake-user-gentをインストール\n",
    "\n",
    "from fake_useragent import UserAgent\n",
    "ua = UserAgent()\n",
    "headers = {\"User-Agent\":ua.chrome}\n",
    "r = requests.get(url, headers=headers)\n",
    "print(r.text)"
   ]
  },
  {
   "cell_type": "code",
   "execution_count": 16,
   "id": "4bff4a7b-7eb5-40e3-8b5c-e5786c09a96a",
   "metadata": {},
   "outputs": [],
   "source": [
    "#挙動間のランダムな時間をセット\n",
    "import time\n",
    "from time import sleep\n",
    "\n",
    "import numpy as np\n",
    "\n",
    "def wait_t():\n",
    "    wait_time = float('{:.3f}'.format(np.random.rand()*2+5))\n",
    "    return wait_time"
   ]
  },
  {
   "cell_type": "code",
   "execution_count": 17,
   "id": "3812506e-37b0-486b-93d1-9709d825fcea",
   "metadata": {},
   "outputs": [],
   "source": [
    "#自動ブラウザ立ち上げ\n",
    "driver = webdriver.Chrome()\n",
    "time.sleep(wait_t())\n"
   ]
  },
  {
   "cell_type": "code",
   "execution_count": 18,
   "id": "497f8d2a-0a96-48cf-860c-2a54d224075c",
   "metadata": {},
   "outputs": [],
   "source": [
    "#Linkedinのサインインページへ遷移\n",
    "driver.get('https://www.linkedin.com/login/ja?fromSignIn=true&trk=guest_homepage-basic_nav-header-signin')"
   ]
  },
  {
   "cell_type": "code",
   "execution_count": 19,
   "id": "c01b3bf9-5ee2-4657-a19e-b35ded64725b",
   "metadata": {},
   "outputs": [
    {
     "name": "stderr",
     "output_type": "stream",
     "text": [
      "/var/folders/z0/3dq3ynpj06sdcjdcl_dqb3lh0000gn/T/ipykernel_23494/1447777212.py:4: DeprecationWarning: find_element_by_* commands are deprecated. Please use find_element() instead\n",
      "  mail = driver.find_element_by_name(\"session_key\")\n",
      "/var/folders/z0/3dq3ynpj06sdcjdcl_dqb3lh0000gn/T/ipykernel_23494/1447777212.py:12: DeprecationWarning: find_element_by_* commands are deprecated. Please use find_element() instead\n",
      "  password = driver.find_element_by_name(\"session_password\")\n",
      "/var/folders/z0/3dq3ynpj06sdcjdcl_dqb3lh0000gn/T/ipykernel_23494/1447777212.py:18: DeprecationWarning: find_element_by_* commands are deprecated. Please use find_element() instead\n",
      "  btn = driver.find_element_by_xpath('/html/body/div/main/div[2]/div[1]/form/div[3]/button')\n"
     ]
    }
   ],
   "source": [
    "time.sleep(wait_t())\n",
    "\n",
    "#メールまたは携帯番号欄の要素を取得\n",
    "mail = driver.find_element_by_name(\"session_key\")\n",
    "\n",
    "# mail.send_keys(\"subchan.yama@divx.co.jp\")\n",
    "mail.send_keys(u_name) \n",
    "\n",
    "time.sleep(wait_t())\n",
    "\n",
    "#password欄の要素を取得\n",
    "password = driver.find_element_by_name(\"session_password\")\n",
    "# password.send_keys(\"Issue-zero\")\n",
    "password.send_keys(u_password) \n",
    "\n",
    "time.sleep(wait_t())\n",
    "\n",
    "btn = driver.find_element_by_xpath('/html/body/div/main/div[2]/div[1]/form/div[3]/button')\n",
    "btn.click()"
   ]
  },
  {
   "cell_type": "code",
   "execution_count": 20,
   "id": "f29528d0-9600-431c-ac98-004e7e847c93",
   "metadata": {},
   "outputs": [
    {
     "name": "stdout",
     "output_type": "stream",
     "text": [
      "https://www.linkedin.com/in/crefec/\n"
     ]
    },
    {
     "name": "stderr",
     "output_type": "stream",
     "text": [
      "/var/folders/z0/3dq3ynpj06sdcjdcl_dqb3lh0000gn/T/ipykernel_23494/3603155377.py:36: DeprecationWarning: find_element_by_* commands are deprecated. Please use find_element() instead\n",
      "  prof_name = driver.find_element_by_class_name(\"text-heading-xlarge\").text\n",
      "/var/folders/z0/3dq3ynpj06sdcjdcl_dqb3lh0000gn/T/ipykernel_23494/3603155377.py:57: DeprecationWarning: find_element_by_* commands are deprecated. Please use find_element() instead\n",
      "  e=driver.find_element_by_xpath(\"/html/body/div[6]/div[3]/div/div/div[2]/div/div/main/section[1]/div[2]/div[3]/div/button\")\n",
      "/var/folders/z0/3dq3ynpj06sdcjdcl_dqb3lh0000gn/T/ipykernel_23494/3603155377.py:67: DeprecationWarning: find_element_by_* commands are deprecated. Please use find_element() instead\n",
      "  e=driver.find_element_by_xpath(\"/html/body/div[5]/div[3]/div/div/div[2]/div/div/main/section[1]/div[2]/div[3]/div/button\")\n",
      "/var/folders/z0/3dq3ynpj06sdcjdcl_dqb3lh0000gn/T/ipykernel_23494/3603155377.py:77: DeprecationWarning: find_element_by_* commands are deprecated. Please use find_element() instead\n",
      "  e=driver.find_element_by_xpath(\"/html/body/div[4]/div[3]/div/div/div[2]/div/div/main/section[1]/div[2]/div[3]/div/button\")\n",
      "/var/folders/z0/3dq3ynpj06sdcjdcl_dqb3lh0000gn/T/ipykernel_23494/3603155377.py:87: DeprecationWarning: find_element_by_* commands are deprecated. Please use find_element() instead\n",
      "  e=driver.find_element_by_xpath(\"/html/body/div[6]/div[3]/div/div/div/div[2]/div/div/main/section[1]/div[2]/div[3]/div/button\")\n",
      "/var/folders/z0/3dq3ynpj06sdcjdcl_dqb3lh0000gn/T/ipykernel_23494/3603155377.py:97: DeprecationWarning: find_element_by_* commands are deprecated. Please use find_element() instead\n",
      "  e=driver.find_element_by_xpath(\"/html/body/div[5]/div[3]/div/div/div/div[2]/div/div/main/section[1]/div[2]/div[3]/div/button\")\n"
     ]
    },
    {
     "name": "stdout",
     "output_type": "stream",
     "text": [
      "=====以下、送付メッセージ=====\n",
      "大林 秀都様\n",
      "\n",
      "初めまして。\n",
      "投稿を読んで面白いと思いました。\n",
      "\n",
      "更新楽しみにしています。\n",
      "パターン1つながり申請ボタンが存在しません\n",
      "パターン2つながり申請ボタンが存在しません\n",
      "パターン3つながり申請ボタンが存在しません\n",
      "パターン4つながり申請ボタンが存在しません\n",
      "5.581\n",
      "パターン6つながり申請ボタンが存在しません\n"
     ]
    },
    {
     "name": "stderr",
     "output_type": "stream",
     "text": [
      "/var/folders/z0/3dq3ynpj06sdcjdcl_dqb3lh0000gn/T/ipykernel_23494/3603155377.py:107: DeprecationWarning: find_element_by_* commands are deprecated. Please use find_element() instead\n",
      "  e=driver.find_element_by_xpath(\"/html/body/div[4]/div[3]/div/div/div/div[2]/div/div/main/section[1]/div[2]/div[3]/div/button\")\n",
      "/var/folders/z0/3dq3ynpj06sdcjdcl_dqb3lh0000gn/T/ipykernel_23494/3603155377.py:118: DeprecationWarning: find_element_by_* commands are deprecated. Please use find_element() instead\n",
      "  driver.find_element_by_xpath(BUTTON1).click()\n",
      "/var/folders/z0/3dq3ynpj06sdcjdcl_dqb3lh0000gn/T/ipykernel_23494/3603155377.py:119: DeprecationWarning: find_element_by_* commands are deprecated. Please use find_element() instead\n",
      "  custom_message = driver.find_element_by_id(\"custom-message\")\n"
     ]
    },
    {
     "name": "stdout",
     "output_type": "stream",
     "text": [
      "5.938\n"
     ]
    },
    {
     "name": "stderr",
     "output_type": "stream",
     "text": [
      "/var/folders/z0/3dq3ynpj06sdcjdcl_dqb3lh0000gn/T/ipykernel_23494/3603155377.py:124: DeprecationWarning: find_element_by_* commands are deprecated. Please use find_element() instead\n",
      "  driver.find_element_by_xpath(BUTTON2).click()\n"
     ]
    },
    {
     "name": "stdout",
     "output_type": "stream",
     "text": [
      "{\n",
      "  \"headers\": {\n",
      "    \"Accept\": \"*/*\", \n",
      "    \"Accept-Encoding\": \"gzip, deflate, br\", \n",
      "    \"Host\": \"httpbin.org\", \n",
      "    \"User-Agent\": \"Mozilla/5.0 (X11; Linux x86_64) AppleWebKit/537.36 (KHTML, like Gecko) Chrome/33.0.1750.517 Safari/537.36\", \n",
      "    \"X-Amzn-Trace-Id\": \"Root=1-62f4fea5-2b97e643437ef92a10542819\"\n",
      "  }\n",
      "}\n",
      "\n",
      "新UIが存在しません\n",
      "新UI例外ー１\n",
      "新UIにてメッセージが送信できません\n"
     ]
    },
    {
     "name": "stderr",
     "output_type": "stream",
     "text": [
      "/var/folders/z0/3dq3ynpj06sdcjdcl_dqb3lh0000gn/T/ipykernel_23494/3603155377.py:136: DeprecationWarning: find_element_by_* commands are deprecated. Please use find_element() instead\n",
      "  driver.find_element_by_xpath(BUTTON3).click()\n",
      "/var/folders/z0/3dq3ynpj06sdcjdcl_dqb3lh0000gn/T/ipykernel_23494/3603155377.py:145: DeprecationWarning: find_element_by_* commands are deprecated. Please use find_element() instead\n",
      "  driver.find_element_by_xpath(BUTTON4).click()\n",
      "/var/folders/z0/3dq3ynpj06sdcjdcl_dqb3lh0000gn/T/ipykernel_23494/3603155377.py:154: DeprecationWarning: find_element_by_* commands are deprecated. Please use find_element() instead\n",
      "  driver.find_element_by_xpath(BUTTON5).click()\n"
     ]
    },
    {
     "name": "stdout",
     "output_type": "stream",
     "text": [
      "送信成功\n",
      "https://www.linkedin.com/in/yusuke-shouno-2161373b/\n",
      "=====以下、送付メッセージ=====\n",
      "yusuke Shouno様\n",
      "\n",
      "初めまして。\n",
      "投稿を読んで面白いと思いました。\n",
      "\n",
      "更新楽しみにしています。\n",
      "パターン1つながり申請ボタンが存在しません\n",
      "パターン2つながり申請ボタンが存在しません\n",
      "パターン3つながり申請ボタンが存在しません\n",
      "パターン4つながり申請ボタンが存在しません\n",
      "パターン5つながり申請ボタンが存在しません\n",
      "6.29\n",
      "5.678\n",
      "{\n",
      "  \"headers\": {\n",
      "    \"Accept\": \"*/*\", \n",
      "    \"Accept-Encoding\": \"gzip, deflate, br\", \n",
      "    \"Host\": \"httpbin.org\", \n",
      "    \"User-Agent\": \"Mozilla/5.0 (X11; Linux x86_64) AppleWebKit/537.36 (KHTML, like Gecko) Chrome/33.0.1750.517 Safari/537.36\", \n",
      "    \"X-Amzn-Trace-Id\": \"Root=1-62f4fea5-2b97e643437ef92a10542819\"\n",
      "  }\n",
      "}\n",
      "\n",
      "新UIが存在しません\n",
      "新UI例外ー１\n",
      "新UIにてメッセージが送信できません\n",
      "送信成功\n",
      "送信成功：2件中2件\n"
     ]
    }
   ],
   "source": [
    "#実際につながり申請を行っていくプログラム\n",
    "send_success = 0\n",
    "\n",
    "#スプレッドシート情報を取得\n",
    "worksheet = gs.open_by_key(SPREADSHEET_KEY).worksheet('ブートキャンプTリスト')\n",
    "\n",
    "for serch in range(number_of_people):\n",
    "    \n",
    "    #つながり申請のメッセージを送って繋がり申請できたらtrue、できなかったらfalse\n",
    "    success = False\n",
    "   \n",
    "    \n",
    "    #H列のisNGがNG記載なら処理をスキップ\n",
    "    ck_ng = \"H\" + str(i)\n",
    "    isNG = worksheet.acell(ck_ng).value\n",
    "    \n",
    "    if isNG ==\"NG\":\n",
    "        print(\"isNG,繰り返しをやり直します\")\n",
    "        i+=1\n",
    "        continue\n",
    "    \n",
    "    # #ターゲットの名前をスプレッドシートから取得\n",
    "    # s1 = \"M\" + str(i)\n",
    "    # prof_name = worksheet.acell(s1).value\n",
    "    # print(prof_name)\n",
    "    \n",
    "    #ターゲットのURLをスプレッドシートから取得\n",
    "    s2 = \"V\" + str(i)\n",
    "    prof_url = worksheet.acell(s2).value\n",
    "    print(prof_url)\n",
    "    \n",
    "    #ターゲットのプロフィールページへ遷移\n",
    "    driver.get(prof_url)\n",
    "    \n",
    "    #ターゲットの名前をプロフィールページから取得\n",
    "    prof_name = driver.find_element_by_class_name(\"text-heading-xlarge\").text\n",
    "    \n",
    "    print(\"=====以下、送付メッセージ=====\")\n",
    "   \n",
    "    #テストメッセージ\n",
    "    message = prof_name + \"様\\n\\n\" + \"初めまして。\\n投稿を読んで面白いと思いました。\\n\\n更新楽しみにしています。\" \n",
    "    \n",
    "    # メッセージ追加で送付する文面\n",
    "    # message1 = prof_name + \"様\\n\\n\" + \"突然のご連絡失礼いたします。株式会社divxプロジェクトマネージャの浦田幸嗣と申します。\\n\"\n",
    "    # message2 = \"DIVXは企業様のシステム開発・Web制作・UI/UXデザイン・動画制作の支援をしております。\\n\"\n",
    "    # message3 = \"プロフィールを拝見させていただき、弊社がお役立ちできる領域があると思い、申請させていただきました。\\n\" + \"もしよろしければ承認いただけますと幸いです。\\n\\n\"\n",
    "    # message4 = \"お忙しいところ恐縮ですが、何卒よろしくお願いいたします。\"\n",
    "    # message = message1 + message2 + message3 + message4\n",
    "    \n",
    "    print(message)\n",
    "    \n",
    "\n",
    "    \n",
    "    #つながり申請ボタンをクリック\n",
    "    #UIパターン１（左に青の繋がり申請ボタンパターン）\n",
    "    try:\n",
    "        e=driver.find_element_by_xpath(\"/html/body/div[6]/div[3]/div/div/div[2]/div/div/main/section[1]/div[2]/div[3]/div/button\")\n",
    "        e.click()\n",
    "        time.sleep(wait_t())\n",
    "        print(wait_t())\n",
    "    except Exception: \n",
    "        print(\"パターン1つながり申請ボタンが存在しません\")    \n",
    "           \n",
    "        \n",
    "    #UIパターン2（左に青の繋がり申請ボタンパターンでxpathが異なるその１）\n",
    "    try:\n",
    "        e=driver.find_element_by_xpath(\"/html/body/div[5]/div[3]/div/div/div[2]/div/div/main/section[1]/div[2]/div[3]/div/button\")\n",
    "        e.click()\n",
    "        time.sleep(wait_t())\n",
    "        print(wait_t())\n",
    "    except Exception: \n",
    "        print(\"パターン2つながり申請ボタンが存在しません\")  \n",
    "        \n",
    "        \n",
    "    #UIパターン3（左に青の繋がり申請ボタンパターンでxpathが異なるその2）\n",
    "    try:\n",
    "        e=driver.find_element_by_xpath(\"/html/body/div[4]/div[3]/div/div/div[2]/div/div/main/section[1]/div[2]/div[3]/div/button\")\n",
    "        e.click()\n",
    "        time.sleep(wait_t())\n",
    "        print(wait_t())\n",
    "    except Exception: \n",
    "        print(\"パターン3つながり申請ボタンが存在しません\")   \n",
    "        \n",
    "        \n",
    "    #UIパターン4（左に青の繋がり申請ボタンパターンでxpathが異なるその3）\n",
    "    try:\n",
    "        e=driver.find_element_by_xpath(\"/html/body/div[6]/div[3]/div/div/div/div[2]/div/div/main/section[1]/div[2]/div[3]/div/button\")\n",
    "        e.click()\n",
    "        time.sleep(wait_t())\n",
    "        print(wait_t())\n",
    "    except Exception: \n",
    "        print(\"パターン4つながり申請ボタンが存在しません\")  \n",
    "        \n",
    "        \n",
    "    #UIパターン5（左に青の繋がり申請ボタンパターンでxpathが異なるその4）\n",
    "    try:\n",
    "        e=driver.find_element_by_xpath(\"/html/body/div[5]/div[3]/div/div/div/div[2]/div/div/main/section[1]/div[2]/div[3]/div/button\")\n",
    "        e.click()\n",
    "        time.sleep(wait_t())\n",
    "        print(wait_t())\n",
    "    except Exception: \n",
    "        print(\"パターン5つながり申請ボタンが存在しません\")   \n",
    "        \n",
    "\n",
    "    #UIパターン6（左に青の繋がり申請ボタンパターンでxpathが異なるその5）\n",
    "    try:\n",
    "        e=driver.find_element_by_xpath(\"/html/body/div[4]/div[3]/div/div/div/div[2]/div/div/main/section[1]/div[2]/div[3]/div/button\")\n",
    "        e.click()\n",
    "        time.sleep(wait_t())\n",
    "        print(wait_t())\n",
    "    except Exception: \n",
    "        print(\"パターン6つながり申請ボタンが存在しません\")\n",
    "        \n",
    "\n",
    "    #つながり申請ボタン押下後のメッセージの送信（通常のモーダルパターン）\n",
    "    try:\n",
    "        BUTTON1 = '//*[@aria-label=\"メッセージを追加\"]'\n",
    "        driver.find_element_by_xpath(BUTTON1).click()\n",
    "        custom_message = driver.find_element_by_id(\"custom-message\")\n",
    "        custom_message.send_keys(message)\n",
    "        time.sleep(wait_t())\n",
    "        print(wait_t())\n",
    "        BUTTON2 = '//*[@aria-label=\"今すぐ送信\"]'\n",
    "        driver.find_element_by_xpath(BUTTON2).click()\n",
    "        print(r.text) \n",
    "        \n",
    "        success=True\n",
    "        \n",
    "    except Exception: \n",
    "        print(\"通常のモーダルでメッセージが送信できませんでした\")\n",
    "        \n",
    "    #いわゆる新UIへの対応\n",
    "    try:\n",
    "        #新UIでOther を押下\n",
    "        BUTTON3 = '//*[@aria-label=\"Other\"]'\n",
    "        driver.find_element_by_xpath(BUTTON3).click()\n",
    "        time.sleep(wait_t())\n",
    "        print(wait_t())\n",
    "    except Exception: \n",
    "        print(\"新UIが存在しません\")\n",
    "        \n",
    "    try:    \n",
    "        #つながるを押下\n",
    "        BUTTON4 = '//*[@aria-label=\"つながる\"]'\n",
    "        driver.find_element_by_xpath(BUTTON4).click()\n",
    "        time.sleep(wait_t())\n",
    "        print(wait_t())\n",
    "    except Exception: \n",
    "        print(\"新UI例外ー１\")   \n",
    "    \n",
    "    try:\n",
    "        #メッセージを追加を押下\n",
    "        BUTTON5 = '//*[@aria-label=\"メッセージを追加\"]'\n",
    "        driver.find_element_by_xpath(BUTTON5).click()\n",
    "        time.sleep(wait_t())\n",
    "        print(wait_t())\n",
    "\n",
    "        #テキストボックスにメッセージを記入\n",
    "        custom_message = driver.find_element_by_id(\"custom-message\")\n",
    "        time.sleep(wait_t())\n",
    "        custom_message.send_keys(message)\n",
    "        time.sleep(wait_t())\n",
    "        print(wait_t())\n",
    "    \n",
    "        #送信を押下\n",
    "        BUTTON6 = '//*[@aria-label=\"今すぐ送信\"]'\n",
    "        driver.find_element_by_xpath(BUTTON6).click()\n",
    "        time.sleep(wait_t())\n",
    "        print(wait_t())\n",
    "        \n",
    "        success=True\n",
    "        \n",
    "    except Exception: \n",
    "        print(\"新UIにてメッセージが送信できません\")  \n",
    "        \n",
    "        \n",
    "    finally:\n",
    "        #結果をスプレッドシートへ書き込み\n",
    "        # worksheet = gs.open_by_key(SPREADSHEET_KEY).worksheet('ブートキャンプTリスト')\n",
    "        cell = \"I\"+str(i)\n",
    "        date_cell = \"A\" + str(i)\n",
    "        act_cell = \"B\" + str(i)\n",
    "        worksheet.update_acell(date_cell, d)\n",
    "        worksheet.update_acell(act_cell, '浦田Bot')\n",
    "        \n",
    "        if success==False :\n",
    "            worksheet.update_acell(cell, 'true')\n",
    "            print(\"送信失敗\")\n",
    "        else:\n",
    "            worksheet.update_acell(cell, 'false')\n",
    "            print(\"送信成功\")\n",
    "            send_success += 1\n",
    "        \n",
    "        i+=1\n",
    "        \n",
    "print(\"送信成功：\" + str(number_of_people) + \"件中\" + str(send_success) + \"件\")\n",
    "driver.get(\"https://www.linkedin.com/feed/\")\n"
   ]
  },
  {
   "cell_type": "code",
   "execution_count": null,
   "id": "1284ac4a-33a1-49f4-9ffd-4d7979d4bf2c",
   "metadata": {},
   "outputs": [],
   "source": []
  }
 ],
 "metadata": {
  "kernelspec": {
   "display_name": "Python 3 (ipykernel)",
   "language": "python",
   "name": "python3"
  },
  "language_info": {
   "codemirror_mode": {
    "name": "ipython",
    "version": 3
   },
   "file_extension": ".py",
   "mimetype": "text/x-python",
   "name": "python",
   "nbconvert_exporter": "python",
   "pygments_lexer": "ipython3",
   "version": "3.9.12"
  }
 },
 "nbformat": 4,
 "nbformat_minor": 5
}
