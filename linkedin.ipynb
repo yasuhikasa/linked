{
 "cells": [
  {
   "cell_type": "code",
   "execution_count": 1,
   "id": "b466b6c3-b0a8-4cb4-888e-08d9d591eb3d",
   "metadata": {},
   "outputs": [
    {
     "name": "stdout",
     "output_type": "stream",
     "text": [
      "Requirement already satisfied: gspread in /Users/divx/opt/anaconda3/lib/python3.9/site-packages (5.4.0)\n",
      "Requirement already satisfied: oauth2client in /Users/divx/opt/anaconda3/lib/python3.9/site-packages (4.1.3)\n",
      "Requirement already satisfied: google-auth>=1.12.0 in /Users/divx/opt/anaconda3/lib/python3.9/site-packages (from gspread) (1.33.0)\n",
      "Requirement already satisfied: google-auth-oauthlib>=0.4.1 in /Users/divx/opt/anaconda3/lib/python3.9/site-packages (from gspread) (0.5.2)\n",
      "Requirement already satisfied: httplib2>=0.9.1 in /Users/divx/opt/anaconda3/lib/python3.9/site-packages (from oauth2client) (0.20.4)\n",
      "Requirement already satisfied: rsa>=3.1.4 in /Users/divx/opt/anaconda3/lib/python3.9/site-packages (from oauth2client) (4.7.2)\n",
      "Requirement already satisfied: pyasn1-modules>=0.0.5 in /Users/divx/opt/anaconda3/lib/python3.9/site-packages (from oauth2client) (0.2.8)\n",
      "Requirement already satisfied: pyasn1>=0.1.7 in /Users/divx/opt/anaconda3/lib/python3.9/site-packages (from oauth2client) (0.4.8)\n",
      "Requirement already satisfied: six>=1.6.1 in /Users/divx/opt/anaconda3/lib/python3.9/site-packages (from oauth2client) (1.16.0)\n",
      "Requirement already satisfied: setuptools>=40.3.0 in /Users/divx/opt/anaconda3/lib/python3.9/site-packages (from google-auth>=1.12.0->gspread) (61.2.0)\n",
      "Requirement already satisfied: cachetools<5.0,>=2.0.0 in /Users/divx/opt/anaconda3/lib/python3.9/site-packages (from google-auth>=1.12.0->gspread) (4.2.2)\n",
      "Requirement already satisfied: requests-oauthlib>=0.7.0 in /Users/divx/opt/anaconda3/lib/python3.9/site-packages (from google-auth-oauthlib>=0.4.1->gspread) (1.3.1)\n",
      "Requirement already satisfied: pyparsing!=3.0.0,!=3.0.1,!=3.0.2,!=3.0.3,<4,>=2.4.2 in /Users/divx/opt/anaconda3/lib/python3.9/site-packages (from httplib2>=0.9.1->oauth2client) (3.0.4)\n",
      "Requirement already satisfied: requests>=2.0.0 in /Users/divx/opt/anaconda3/lib/python3.9/site-packages (from requests-oauthlib>=0.7.0->google-auth-oauthlib>=0.4.1->gspread) (2.27.1)\n",
      "Requirement already satisfied: oauthlib>=3.0.0 in /Users/divx/opt/anaconda3/lib/python3.9/site-packages (from requests-oauthlib>=0.7.0->google-auth-oauthlib>=0.4.1->gspread) (3.2.0)\n",
      "Requirement already satisfied: charset-normalizer~=2.0.0 in /Users/divx/opt/anaconda3/lib/python3.9/site-packages (from requests>=2.0.0->requests-oauthlib>=0.7.0->google-auth-oauthlib>=0.4.1->gspread) (2.0.4)\n",
      "Requirement already satisfied: certifi>=2017.4.17 in /Users/divx/opt/anaconda3/lib/python3.9/site-packages (from requests>=2.0.0->requests-oauthlib>=0.7.0->google-auth-oauthlib>=0.4.1->gspread) (2021.10.8)\n",
      "Requirement already satisfied: urllib3<1.27,>=1.21.1 in /Users/divx/opt/anaconda3/lib/python3.9/site-packages (from requests>=2.0.0->requests-oauthlib>=0.7.0->google-auth-oauthlib>=0.4.1->gspread) (1.26.9)\n",
      "Requirement already satisfied: idna<4,>=2.5 in /Users/divx/opt/anaconda3/lib/python3.9/site-packages (from requests>=2.0.0->requests-oauthlib>=0.7.0->google-auth-oauthlib>=0.4.1->gspread) (3.3)\n",
      "Note: you may need to restart the kernel to use updated packages.\n"
     ]
    }
   ],
   "source": [
    "pip install gspread oauth2client"
   ]
  },
  {
   "cell_type": "code",
   "execution_count": 2,
   "id": "45eee189-a2bc-4c92-9246-7b2111be1976",
   "metadata": {},
   "outputs": [],
   "source": [
    "import gspread\n",
    "from oauth2client.service_account import ServiceAccountCredentials"
   ]
  },
  {
   "cell_type": "code",
   "execution_count": 3,
   "id": "74aee73d-52d8-4727-9aa5-cefe1aa1cf98",
   "metadata": {},
   "outputs": [],
   "source": [
    "scope = ['https://spreadsheets.google.com/feeds','https://www.googleapis.com/auth/drive']"
   ]
  },
  {
   "cell_type": "code",
   "execution_count": 4,
   "id": "bf1decc2-6652-4de2-b302-fb4bc5903c6f",
   "metadata": {},
   "outputs": [],
   "source": [
    "credentials = ServiceAccountCredentials.from_json_keyfile_name('myprojexttest-356514-99f5278c6d45.json', scope)"
   ]
  },
  {
   "cell_type": "code",
   "execution_count": 5,
   "id": "99eb3c84-b569-4c63-9b51-33b4ef62c464",
   "metadata": {},
   "outputs": [],
   "source": [
    "gs = gspread.authorize(credentials)"
   ]
  },
  {
   "cell_type": "code",
   "execution_count": 6,
   "id": "ccde63bb-3cdb-4907-ba86-188d99495f8c",
   "metadata": {},
   "outputs": [],
   "source": [
    "SPREADSHEET_KEY = '1wgQVOpSfC62qipwVh2m76MMERSHqv4OhlugpH5ikIyk'"
   ]
  },
  {
   "cell_type": "code",
   "execution_count": 7,
   "id": "0ad53a05-f565-42df-95a2-81892683fdf2",
   "metadata": {},
   "outputs": [],
   "source": [
    "worksheet = gs.open_by_key(SPREADSHEET_KEY).worksheet(\"会社名\")"
   ]
  },
  {
   "cell_type": "code",
   "execution_count": 8,
   "id": "46693180-6479-45e6-a81f-6fe9437f8189",
   "metadata": {},
   "outputs": [
    {
     "name": "stdout",
     "output_type": "stream",
     "text": [
      "Requirement already satisfied: selenium in /Users/divx/opt/anaconda3/lib/python3.9/site-packages (4.2.0)\n",
      "Requirement already satisfied: urllib3[secure,socks]~=1.26 in /Users/divx/opt/anaconda3/lib/python3.9/site-packages (from selenium) (1.26.9)\n",
      "Requirement already satisfied: trio~=0.17 in /Users/divx/opt/anaconda3/lib/python3.9/site-packages (from selenium) (0.21.0)\n",
      "Requirement already satisfied: trio-websocket~=0.9 in /Users/divx/opt/anaconda3/lib/python3.9/site-packages (from selenium) (0.9.2)\n",
      "Requirement already satisfied: idna in /Users/divx/opt/anaconda3/lib/python3.9/site-packages (from trio~=0.17->selenium) (3.3)\n",
      "Requirement already satisfied: sortedcontainers in /Users/divx/opt/anaconda3/lib/python3.9/site-packages (from trio~=0.17->selenium) (2.4.0)\n",
      "Requirement already satisfied: outcome in /Users/divx/opt/anaconda3/lib/python3.9/site-packages (from trio~=0.17->selenium) (1.1.0)\n",
      "Requirement already satisfied: async-generator>=1.9 in /Users/divx/opt/anaconda3/lib/python3.9/site-packages (from trio~=0.17->selenium) (1.10)\n",
      "Requirement already satisfied: sniffio in /Users/divx/opt/anaconda3/lib/python3.9/site-packages (from trio~=0.17->selenium) (1.2.0)\n",
      "Requirement already satisfied: attrs>=19.2.0 in /Users/divx/opt/anaconda3/lib/python3.9/site-packages (from trio~=0.17->selenium) (21.4.0)\n",
      "Requirement already satisfied: wsproto>=0.14 in /Users/divx/opt/anaconda3/lib/python3.9/site-packages (from trio-websocket~=0.9->selenium) (1.1.0)\n",
      "Requirement already satisfied: PySocks!=1.5.7,<2.0,>=1.5.6 in /Users/divx/opt/anaconda3/lib/python3.9/site-packages (from urllib3[secure,socks]~=1.26->selenium) (1.7.1)\n",
      "Requirement already satisfied: certifi in /Users/divx/opt/anaconda3/lib/python3.9/site-packages (from urllib3[secure,socks]~=1.26->selenium) (2021.10.8)\n",
      "Requirement already satisfied: pyOpenSSL>=0.14 in /Users/divx/opt/anaconda3/lib/python3.9/site-packages (from urllib3[secure,socks]~=1.26->selenium) (21.0.0)\n",
      "Requirement already satisfied: cryptography>=1.3.4 in /Users/divx/opt/anaconda3/lib/python3.9/site-packages (from urllib3[secure,socks]~=1.26->selenium) (3.4.8)\n",
      "Requirement already satisfied: cffi>=1.12 in /Users/divx/opt/anaconda3/lib/python3.9/site-packages (from cryptography>=1.3.4->urllib3[secure,socks]~=1.26->selenium) (1.15.0)\n",
      "Requirement already satisfied: pycparser in /Users/divx/opt/anaconda3/lib/python3.9/site-packages (from cffi>=1.12->cryptography>=1.3.4->urllib3[secure,socks]~=1.26->selenium) (2.21)\n",
      "Requirement already satisfied: six>=1.5.2 in /Users/divx/opt/anaconda3/lib/python3.9/site-packages (from pyOpenSSL>=0.14->urllib3[secure,socks]~=1.26->selenium) (1.16.0)\n",
      "Requirement already satisfied: h11<1,>=0.9.0 in /Users/divx/opt/anaconda3/lib/python3.9/site-packages (from wsproto>=0.14->trio-websocket~=0.9->selenium) (0.13.0)\n"
     ]
    }
   ],
   "source": [
    "!pip install selenium"
   ]
  },
  {
   "cell_type": "code",
   "execution_count": 9,
   "id": "1378bf74-74c3-4c4d-aebf-4df9ccfcc2ae",
   "metadata": {},
   "outputs": [
    {
     "name": "stdout",
     "output_type": "stream",
     "text": [
      "Requirement already satisfied: chromedriver in /Users/divx/opt/anaconda3/lib/python3.9/site-packages (2.24.1)\n",
      "Note: you may need to restart the kernel to use updated packages.\n"
     ]
    }
   ],
   "source": [
    "pip install chromedriver"
   ]
  },
  {
   "cell_type": "code",
   "execution_count": 10,
   "id": "47fee666-4840-4ebd-9719-89110102861f",
   "metadata": {},
   "outputs": [
    {
     "name": "stdout",
     "output_type": "stream",
     "text": [
      "Requirement already satisfied: fake-useragent in /Users/divx/opt/anaconda3/lib/python3.9/site-packages (0.1.11)\n"
     ]
    }
   ],
   "source": [
    "!pip install fake-useragent"
   ]
  },
  {
   "cell_type": "code",
   "execution_count": 11,
   "id": "1e252494-4696-4621-ae7f-e128ca2a996a",
   "metadata": {},
   "outputs": [
    {
     "name": "stdout",
     "output_type": "stream",
     "text": [
      "Requirement already satisfied: webdriver_manager in /Users/divx/opt/anaconda3/lib/python3.9/site-packages (3.8.1)\n",
      "Requirement already satisfied: requests in /Users/divx/opt/anaconda3/lib/python3.9/site-packages (from webdriver_manager) (2.27.1)\n",
      "Requirement already satisfied: python-dotenv in /Users/divx/opt/anaconda3/lib/python3.9/site-packages (from webdriver_manager) (0.20.0)\n",
      "Requirement already satisfied: certifi>=2017.4.17 in /Users/divx/opt/anaconda3/lib/python3.9/site-packages (from requests->webdriver_manager) (2021.10.8)\n",
      "Requirement already satisfied: idna<4,>=2.5 in /Users/divx/opt/anaconda3/lib/python3.9/site-packages (from requests->webdriver_manager) (3.3)\n",
      "Requirement already satisfied: charset-normalizer~=2.0.0 in /Users/divx/opt/anaconda3/lib/python3.9/site-packages (from requests->webdriver_manager) (2.0.4)\n",
      "Requirement already satisfied: urllib3<1.27,>=1.21.1 in /Users/divx/opt/anaconda3/lib/python3.9/site-packages (from requests->webdriver_manager) (1.26.9)\n"
     ]
    }
   ],
   "source": [
    " !pip install webdriver_manager"
   ]
  },
  {
   "cell_type": "code",
   "execution_count": 12,
   "id": "58eb0a6c-5538-4c52-9b1c-c685e9295d6d",
   "metadata": {},
   "outputs": [],
   "source": [
    "from selenium import webdriver\n",
    "from webdriver_manager.chrome import ChromeDriverManager\n",
    "from selenium.webdriver.common.by import By\n",
    "from selenium.webdriver.support.ui import WebDriverWait\n",
    "from selenium.webdriver.common.keys import Keys\n",
    "from time import sleep\n",
    "from fake_useragent import UserAgent\n",
    "import time\n",
    "import numpy as np\n",
    "import requests\n"
   ]
  },
  {
   "cell_type": "code",
   "execution_count": 13,
   "id": "b249c331-64c5-473e-b691-0e6347f6d0e9",
   "metadata": {},
   "outputs": [],
   "source": [
    "url= \"https://httpbin.org/headers\""
   ]
  },
  {
   "cell_type": "code",
   "execution_count": 14,
   "id": "ea1eea3e-43d5-4356-912c-c4d03cbee96d",
   "metadata": {},
   "outputs": [],
   "source": [
    "r=requests.get(url)"
   ]
  },
  {
   "cell_type": "code",
   "execution_count": 15,
   "id": "83429eef-91f8-4a3c-b645-c6b1f227752e",
   "metadata": {},
   "outputs": [
    {
     "name": "stdout",
     "output_type": "stream",
     "text": [
      "{\n",
      "  \"headers\": {\n",
      "    \"Accept\": \"*/*\", \n",
      "    \"Accept-Encoding\": \"gzip, deflate, br\", \n",
      "    \"Host\": \"httpbin.org\", \n",
      "    \"User-Agent\": \"python-requests/2.27.1\", \n",
      "    \"X-Amzn-Trace-Id\": \"Root=1-62d77be1-3b962cb35d5909c261bf2be1\"\n",
      "  }\n",
      "}\n",
      "\n"
     ]
    }
   ],
   "source": [
    "print(r.text)"
   ]
  },
  {
   "cell_type": "code",
   "execution_count": 16,
   "id": "28f740bb-d9ae-40ad-84f4-409e0b14646b",
   "metadata": {},
   "outputs": [
    {
     "name": "stderr",
     "output_type": "stream",
     "text": [
      "Error occurred during loading data. Trying to use cache server https://fake-useragent.herokuapp.com/browsers/0.1.11\n",
      "Traceback (most recent call last):\n",
      "  File \"/Users/divx/opt/anaconda3/lib/python3.9/site-packages/fake_useragent/utils.py\", line 154, in load\n",
      "    for item in get_browsers(verify_ssl=verify_ssl):\n",
      "  File \"/Users/divx/opt/anaconda3/lib/python3.9/site-packages/fake_useragent/utils.py\", line 99, in get_browsers\n",
      "    html = html.split('<table class=\"w3-table-all notranslate\">')[1]\n",
      "IndexError: list index out of range\n"
     ]
    }
   ],
   "source": [
    "#user agent偽装を組み込む\n",
    "\n",
    "ua = UserAgent()"
   ]
  },
  {
   "cell_type": "code",
   "execution_count": 17,
   "id": "f768ee32-3ca5-4a68-8144-9d8c1b56dd7f",
   "metadata": {},
   "outputs": [
    {
     "name": "stdout",
     "output_type": "stream",
     "text": [
      "{\n",
      "  \"headers\": {\n",
      "    \"Accept\": \"*/*\", \n",
      "    \"Accept-Encoding\": \"gzip, deflate, br\", \n",
      "    \"Host\": \"httpbin.org\", \n",
      "    \"User-Agent\": \"Mozilla/5.0 (Windows NT 6.1; WOW64) AppleWebKit/537.17 (KHTML, like Gecko) Chrome/24.0.1312.60 Safari/537.17\", \n",
      "    \"X-Amzn-Trace-Id\": \"Root=1-62d77be5-3466d72f5590b4bc0fd75d39\"\n",
      "  }\n",
      "}\n",
      "\n"
     ]
    }
   ],
   "source": [
    "headers = { \"User-Agent\":ua.chrome}\n",
    "r = requests.get(url, headers = headers)\n",
    "print(r.text)"
   ]
  },
  {
   "cell_type": "code",
   "execution_count": 18,
   "id": "39f0009f-ac4c-4c59-bb72-737f00871883",
   "metadata": {},
   "outputs": [],
   "source": [
    "url = \"https://httpbin.org/headers\""
   ]
  },
  {
   "cell_type": "code",
   "execution_count": 19,
   "id": "c4bb1813-e8b4-4701-8a9f-b5defbcd54a0",
   "metadata": {},
   "outputs": [],
   "source": [
    "r=requests.get(url, headers = headers)"
   ]
  },
  {
   "cell_type": "code",
   "execution_count": 20,
   "id": "5d221a01-d06d-48c8-87ef-6b1928e0a734",
   "metadata": {},
   "outputs": [
    {
     "name": "stdout",
     "output_type": "stream",
     "text": [
      "{\n",
      "  \"headers\": {\n",
      "    \"Accept\": \"*/*\", \n",
      "    \"Accept-Encoding\": \"gzip, deflate, br\", \n",
      "    \"Host\": \"httpbin.org\", \n",
      "    \"User-Agent\": \"Mozilla/5.0 (Windows NT 6.1; WOW64) AppleWebKit/537.17 (KHTML, like Gecko) Chrome/24.0.1312.60 Safari/537.17\", \n",
      "    \"X-Amzn-Trace-Id\": \"Root=1-62d77be6-02db3c010fce9d340ac19a08\"\n",
      "  }\n",
      "}\n",
      "\n"
     ]
    }
   ],
   "source": [
    "print(r.text)"
   ]
  },
  {
   "cell_type": "code",
   "execution_count": 21,
   "id": "bbdd26f4-624c-49c1-9515-51d45aacb05d",
   "metadata": {},
   "outputs": [],
   "source": [
    "#ランダムな待機時間を設定（これはメソッド化して、各操作前に呼び出したい感じ）\n",
    "\n",
    "def wait_t():\n",
    "    wait_time = float('{:.3f}'.format(np.random.rand()*2+5))\n",
    "    return wait_time"
   ]
  },
  {
   "cell_type": "code",
   "execution_count": 22,
   "id": "a7d37821-a2e0-4762-97df-c2081997918b",
   "metadata": {},
   "outputs": [
    {
     "name": "stdout",
     "output_type": "stream",
     "text": [
      "\n"
     ]
    },
    {
     "name": "stderr",
     "output_type": "stream",
     "text": [
      "/var/folders/z0/3dq3ynpj06sdcjdcl_dqb3lh0000gn/T/ipykernel_1581/2601375615.py:3: DeprecationWarning: executable_path has been deprecated, please pass in a Service object\n",
      "  driver = webdriver.Chrome (ChromeDriverManager().install())\n"
     ]
    }
   ],
   "source": [
    "#ブラウザの立ち上げ\n",
    "\n",
    "driver = webdriver.Chrome (ChromeDriverManager().install())"
   ]
  },
  {
   "cell_type": "code",
   "execution_count": 23,
   "id": "e321100b-5979-41c1-9cf1-f46a07536c27",
   "metadata": {},
   "outputs": [],
   "source": [
    "#Linkedinサイトへアクセス\n",
    "#Linkedinトップページ\n",
    "\n",
    "\n",
    "driver.get('https://www.linkedin.com/login/ja?fromSignIn=true&trk=guest_homepage-basic_nav-header-signin')"
   ]
  },
  {
   "cell_type": "code",
   "execution_count": 24,
   "id": "e0d6681e-7476-4516-8aac-e74fb30b75d1",
   "metadata": {},
   "outputs": [
    {
     "name": "stderr",
     "output_type": "stream",
     "text": [
      "/var/folders/z0/3dq3ynpj06sdcjdcl_dqb3lh0000gn/T/ipykernel_1581/3915023428.py:4: DeprecationWarning: find_element_by_* commands are deprecated. Please use find_element() instead\n",
      "  mail = driver.find_element_by_id(\"username\")\n",
      "/var/folders/z0/3dq3ynpj06sdcjdcl_dqb3lh0000gn/T/ipykernel_1581/3915023428.py:13: DeprecationWarning: find_element_by_* commands are deprecated. Please use find_element() instead\n",
      "  password = driver.find_element_by_id(\"password\")\n",
      "/var/folders/z0/3dq3ynpj06sdcjdcl_dqb3lh0000gn/T/ipykernel_1581/3915023428.py:15: DeprecationWarning: find_element_by_xpath is deprecated. Please use find_element(by=By.XPATH, value=xpath) instead\n",
      "  btn = driver.find_element_by_xpath('//*[@id=\"organic-div\"]/form/div[3]/button')\n"
     ]
    },
    {
     "name": "stdout",
     "output_type": "stream",
     "text": [
      "5.125\n"
     ]
    },
    {
     "ename": "NameError",
     "evalue": "name 'link' is not defined",
     "output_type": "error",
     "traceback": [
      "\u001b[0;31m---------------------------------------------------------------------------\u001b[0m",
      "\u001b[0;31mNameError\u001b[0m                                 Traceback (most recent call last)",
      "Input \u001b[0;32mIn [24]\u001b[0m, in \u001b[0;36m<cell line: 24>\u001b[0;34m()\u001b[0m\n\u001b[1;32m     20\u001b[0m \u001b[38;5;66;03m#サインインボタン押す\u001b[39;00m\n\u001b[1;32m     22\u001b[0m btn\u001b[38;5;241m.\u001b[39mclick()\n\u001b[0;32m---> 24\u001b[0m \u001b[38;5;28mprint\u001b[39m(\u001b[43mlink\u001b[49m\u001b[38;5;241m.\u001b[39mtext)\n",
      "\u001b[0;31mNameError\u001b[0m: name 'link' is not defined"
     ]
    }
   ],
   "source": [
    "#自動ログイン\n",
    "#ユーザー名入力\n",
    "\n",
    "mail = driver.find_element_by_id(\"username\")\n",
    "mail.send_keys(\"testkun@gmail.jp\")\n",
    "\n",
    "#間隔空ける\n",
    "\n",
    "time.sleep(wait_t())\n",
    "\n",
    "#パスワード入力\n",
    "\n",
    "password = driver.find_element_by_id(\"password\")\n",
    "password.send_keys(\"password\")\n",
    "btn = driver.find_element_by_xpath('//*[@id=\"organic-div\"]/form/div[3]/button')\n",
    "\n",
    "time.sleep(wait_t())\n",
    "print(wait_t())\n",
    "\n",
    "#サインインボタン押す\n",
    "\n",
    "btn.click()\n",
    "\n",
    "print(link.text)"
   ]
  },
  {
   "cell_type": "code",
   "execution_count": 27,
   "id": "bee430db-1b8c-46f8-aff2-784cb58d1688",
   "metadata": {},
   "outputs": [
    {
     "name": "stdout",
     "output_type": "stream",
     "text": [
      "日笠  やす様\n",
      "初めまして。\n",
      "投稿を読んで面白いと思いました。\n",
      "\n",
      "更新楽しみにしています。\n"
     ]
    },
    {
     "name": "stderr",
     "output_type": "stream",
     "text": [
      "/var/folders/z0/3dq3ynpj06sdcjdcl_dqb3lh0000gn/T/ipykernel_1581/1145317696.py:23: DeprecationWarning: find_element_by_class_name is deprecated. Please use find_element(by=By.CLASS_NAME, value=name) instead\n",
      "  input_element = driver.find_element_by_class_name('search-global-typeahead__input')\n"
     ]
    },
    {
     "name": "stdout",
     "output_type": "stream",
     "text": [
      "5.215\n",
      "5.287\n",
      "つながり申請ボタンが存在しません\n"
     ]
    },
    {
     "name": "stderr",
     "output_type": "stream",
     "text": [
      "/var/folders/z0/3dq3ynpj06sdcjdcl_dqb3lh0000gn/T/ipykernel_1581/1145317696.py:33: DeprecationWarning: find_element_by_xpath is deprecated. Please use find_element(by=By.XPATH, value=xpath) instead\n",
      "  e=driver.find_element_by_xpath(\"/html/body/div[5]/div[3]/div[2]/div/div[1]/main/div/div/div[1]/ul/li[1]/div/div/div[3]/div/button/span\")\n"
     ]
    },
    {
     "name": "stdout",
     "output_type": "stream",
     "text": [
      "5.949\n",
      "メッセージが送信できません\n",
      "新UIにてメッセージが送信できません\n"
     ]
    },
    {
     "name": "stderr",
     "output_type": "stream",
     "text": [
      "/var/folders/z0/3dq3ynpj06sdcjdcl_dqb3lh0000gn/T/ipykernel_1581/1145317696.py:44: DeprecationWarning: find_element_by_xpath is deprecated. Please use find_element(by=By.XPATH, value=xpath) instead\n",
      "  driver.find_element_by_xpath(\"/html/body/div[3]/div/div/div[3]/button[1]/span\").click()\n",
      "/var/folders/z0/3dq3ynpj06sdcjdcl_dqb3lh0000gn/T/ipykernel_1581/1145317696.py:63: DeprecationWarning: find_element_by_xpath is deprecated. Please use find_element(by=By.XPATH, value=xpath) instead\n",
      "  driver.find_element_by_xpath(\"/html/body/div[3]/div/div/div[2]/div/button[5]/span\").click()\n"
     ]
    },
    {
     "name": "stdout",
     "output_type": "stream",
     "text": [
      "中尾  剛様\n",
      "初めまして。\n",
      "投稿を読んで面白いと思いました。\n",
      "\n",
      "更新楽しみにしています。\n",
      "6.925\n",
      "5.626\n",
      "つながり申請ボタンが存在しません\n",
      "6.067\n",
      "メッセージが送信できません\n",
      "新UIにてメッセージが送信できません\n",
      "武田  吾郎様\n",
      "初めまして。\n",
      "投稿を読んで面白いと思いました。\n",
      "\n",
      "更新楽しみにしています。\n",
      "6.871\n",
      "5.624\n",
      "つながり申請ボタンが存在しません\n",
      "5.982\n",
      "メッセージが送信できません\n",
      "新UIにてメッセージが送信できません\n"
     ]
    }
   ],
   "source": [
    "\n",
    "i=2\n",
    "for search in range(3):\n",
    "\n",
    "    #スプレッドシートからの読み込み\n",
    "    i+=1\n",
    "    s1 = \"C\"+str(i)\n",
    "    company=worksheet.acell(s1).value \n",
    "    \n",
    "    s2 = \"D\"+str(i)\n",
    "    position=worksheet.acell(s2).value \n",
    "    \n",
    "    s3 = \"E\"+str(i)\n",
    "    name=worksheet.acell(s3).value\n",
    "    \n",
    "    message = name+\"様\\n\"+\"初めまして。\\n投稿を読んで面白いと思いました。\\n\\n更新楽しみにしています。\"\n",
    "    print(message)\n",
    "\n",
    "    #検索実施\n",
    "    search_user = driver.find_element(By.CLASS_NAME, \"search-global-typeahead__input\")\n",
    "   \n",
    "    search_user.send_keys(company + \" \" + position + \" \" + name)\n",
    "    \n",
    "    input_element = driver.find_element_by_class_name('search-global-typeahead__input')\n",
    "    time.sleep(wait_t())\n",
    "    print(wait_t())\n",
    "    \n",
    "    input_element.send_keys(Keys.ENTER)\n",
    "    time.sleep(wait_t())\n",
    "    print(wait_t())\n",
    "    \n",
    "    #つながり申請ボタンの押下\n",
    "    try:\n",
    "        e=driver.find_element_by_xpath(\"/html/body/div[5]/div[3]/div[2]/div/div[1]/main/div/div/div[1]/ul/li[1]/div/div/div[3]/div/button/span\")\n",
    "        e.click()\n",
    "        time.sleep(wait_t())\n",
    "        print(wait_t())\n",
    "    except Exception: \n",
    "        print(\"つながり申請ボタンが存在しません\") \n",
    "        time.sleep(wait_t())   \n",
    "        print(wait_t())\n",
    "    \n",
    "    #つながり申請時のメッセージの送信\n",
    "    try:\n",
    "        driver.find_element_by_xpath(\"/html/body/div[3]/div/div/div[3]/button[1]/span\").click()\n",
    "        custom_message = driver.find_element_by_id(\"custom-message\")\n",
    "        custom_message.send_keys(message)\n",
    "        time.sleep(wait_t())\n",
    "        print(wait_t())\n",
    "        driver.find_element_by_xpath(\"/html/body/div[3]/div/div/div[3]/button[2]/span\").click()\n",
    "        print(r.text) \n",
    "        \n",
    "        #結果をスプレッドシートへ書き込み\n",
    "        worksheet = gs.open_by_key(SPREADSHEET_KEY).worksheet('結果')\n",
    "        items = [str(name),'送信成功']\n",
    "        worksheet.append_row(items , table_range='B2')\n",
    "        \n",
    "    except Exception: \n",
    "        print(\"メッセージが送信できません\")\n",
    "        \n",
    "    #新UIへの対応\n",
    "    try:\n",
    "        #新UIでdont know each other を押下\n",
    "        driver.find_element_by_xpath(\"/html/body/div[3]/div/div/div[2]/div/button[5]/span\").click()\n",
    "        time.sleep(wait_t())\n",
    "        print(wait_t())\n",
    "\n",
    "        #つながるを押下\n",
    "        driver.find_element_by_xpath(\"/html/body/div[3]/div/div/div[3]/button/span\").click()\n",
    "        time.sleep(wait_t())\n",
    "        print(wait_t())\n",
    "\n",
    "        #さらに、つながるを押下\n",
    "        driver.find_element_by_xpath(\"/html/body/div[3]/div/div/div[3]/button[1]/span\").click()\n",
    "        time.sleep(wait_t())\n",
    "        print(wait_t())\n",
    "\n",
    "        #メッセージを追加を押下\n",
    "        driver.find_element_by_xpath(\"/html/body/div[3]/div/div/div[3]/button[1]/span\").click()\n",
    "        time.sleep(wait_t())\n",
    "        print(wait_t())\n",
    "\n",
    "        #テキストボックスにメッセージを記入\n",
    "        custom_message = driver.find_element_by_id(\"custom-message\")\n",
    "        time.sleep(wait_t())\n",
    "\n",
    "        custom_message.send_keys(message)\n",
    "        time.sleep(wait_t())\n",
    "        print(wait_t())\n",
    "\n",
    "        #送信を押下\n",
    "        driver.find_element_by_xpath(\"/html/body/div[3]/div/div/div[3]/button[2]/span\").click()\n",
    "        time.sleep(wait_t())\n",
    "        print(wait_t())\n",
    "        \n",
    "        #結果をスプレッドシートへ書き込み\n",
    "        worksheet = gs.open_by_key(SPREADSHEET_KEY).worksheet('結果')\n",
    "        items = [str(name),'送信成功']\n",
    "        worksheet.append_row(items , table_range='B2')\n",
    "        \n",
    "    except Exception: \n",
    "        print(\"新UIにてメッセージが送信できません\")    \n",
    "              \n",
    "    finally:\n",
    "        driver.get('https://jp.linkedin.com/')\n",
    "    \n",
    "    \n",
    "    "
   ]
  },
  {
   "cell_type": "code",
   "execution_count": null,
   "id": "ee13bee7-da54-459d-9c4a-c50a660d1a61",
   "metadata": {},
   "outputs": [],
   "source": []
  },
  {
   "cell_type": "code",
   "execution_count": null,
   "id": "f6dda8e0-90fd-4d91-aa03-2321adfe2b2c",
   "metadata": {},
   "outputs": [],
   "source": []
  },
  {
   "cell_type": "code",
   "execution_count": null,
   "id": "77435fff-2fca-4757-9ba1-fe01f9ad8956",
   "metadata": {},
   "outputs": [],
   "source": []
  },
  {
   "cell_type": "code",
   "execution_count": null,
   "id": "1bf83a53-29d9-4e17-949f-34a1696e4ecf",
   "metadata": {},
   "outputs": [],
   "source": []
  }
 ],
 "metadata": {
  "kernelspec": {
   "display_name": "Python 3 (ipykernel)",
   "language": "python",
   "name": "python3"
  },
  "language_info": {
   "codemirror_mode": {
    "name": "ipython",
    "version": 3
   },
   "file_extension": ".py",
   "mimetype": "text/x-python",
   "name": "python",
   "nbconvert_exporter": "python",
   "pygments_lexer": "ipython3",
   "version": "3.9.12"
  }
 },
 "nbformat": 4,
 "nbformat_minor": 5
}
