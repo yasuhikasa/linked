{
 "cells": [
  {
   "cell_type": "code",
   "execution_count": 1,
   "id": "b466b6c3-b0a8-4cb4-888e-08d9d591eb3d",
   "metadata": {},
   "outputs": [
    {
     "name": "stdout",
     "output_type": "stream",
     "text": [
      "Requirement already satisfied: gspread in /Users/divx/opt/anaconda3/lib/python3.9/site-packages (5.4.0)\n",
      "Requirement already satisfied: oauth2client in /Users/divx/opt/anaconda3/lib/python3.9/site-packages (4.1.3)\n",
      "Requirement already satisfied: google-auth>=1.12.0 in /Users/divx/opt/anaconda3/lib/python3.9/site-packages (from gspread) (1.33.0)\n",
      "Requirement already satisfied: google-auth-oauthlib>=0.4.1 in /Users/divx/opt/anaconda3/lib/python3.9/site-packages (from gspread) (0.5.2)\n",
      "Requirement already satisfied: pyasn1>=0.1.7 in /Users/divx/opt/anaconda3/lib/python3.9/site-packages (from oauth2client) (0.4.8)\n",
      "Requirement already satisfied: pyasn1-modules>=0.0.5 in /Users/divx/opt/anaconda3/lib/python3.9/site-packages (from oauth2client) (0.2.8)\n",
      "Requirement already satisfied: six>=1.6.1 in /Users/divx/opt/anaconda3/lib/python3.9/site-packages (from oauth2client) (1.16.0)\n",
      "Requirement already satisfied: rsa>=3.1.4 in /Users/divx/opt/anaconda3/lib/python3.9/site-packages (from oauth2client) (4.7.2)\n",
      "Requirement already satisfied: httplib2>=0.9.1 in /Users/divx/opt/anaconda3/lib/python3.9/site-packages (from oauth2client) (0.20.4)\n",
      "Requirement already satisfied: setuptools>=40.3.0 in /Users/divx/opt/anaconda3/lib/python3.9/site-packages (from google-auth>=1.12.0->gspread) (61.2.0)\n",
      "Requirement already satisfied: cachetools<5.0,>=2.0.0 in /Users/divx/opt/anaconda3/lib/python3.9/site-packages (from google-auth>=1.12.0->gspread) (4.2.2)\n",
      "Requirement already satisfied: requests-oauthlib>=0.7.0 in /Users/divx/opt/anaconda3/lib/python3.9/site-packages (from google-auth-oauthlib>=0.4.1->gspread) (1.3.1)\n",
      "Requirement already satisfied: pyparsing!=3.0.0,!=3.0.1,!=3.0.2,!=3.0.3,<4,>=2.4.2 in /Users/divx/opt/anaconda3/lib/python3.9/site-packages (from httplib2>=0.9.1->oauth2client) (3.0.4)\n",
      "Requirement already satisfied: requests>=2.0.0 in /Users/divx/opt/anaconda3/lib/python3.9/site-packages (from requests-oauthlib>=0.7.0->google-auth-oauthlib>=0.4.1->gspread) (2.27.1)\n",
      "Requirement already satisfied: oauthlib>=3.0.0 in /Users/divx/opt/anaconda3/lib/python3.9/site-packages (from requests-oauthlib>=0.7.0->google-auth-oauthlib>=0.4.1->gspread) (3.2.0)\n",
      "Requirement already satisfied: urllib3<1.27,>=1.21.1 in /Users/divx/opt/anaconda3/lib/python3.9/site-packages (from requests>=2.0.0->requests-oauthlib>=0.7.0->google-auth-oauthlib>=0.4.1->gspread) (1.26.9)\n",
      "Requirement already satisfied: idna<4,>=2.5 in /Users/divx/opt/anaconda3/lib/python3.9/site-packages (from requests>=2.0.0->requests-oauthlib>=0.7.0->google-auth-oauthlib>=0.4.1->gspread) (3.3)\n",
      "Requirement already satisfied: certifi>=2017.4.17 in /Users/divx/opt/anaconda3/lib/python3.9/site-packages (from requests>=2.0.0->requests-oauthlib>=0.7.0->google-auth-oauthlib>=0.4.1->gspread) (2021.10.8)\n",
      "Requirement already satisfied: charset-normalizer~=2.0.0 in /Users/divx/opt/anaconda3/lib/python3.9/site-packages (from requests>=2.0.0->requests-oauthlib>=0.7.0->google-auth-oauthlib>=0.4.1->gspread) (2.0.4)\n",
      "Note: you may need to restart the kernel to use updated packages.\n"
     ]
    }
   ],
   "source": [
    "pip install gspread oauth2client"
   ]
  },
  {
   "cell_type": "code",
   "execution_count": 2,
   "id": "45eee189-a2bc-4c92-9246-7b2111be1976",
   "metadata": {},
   "outputs": [],
   "source": [
    "import gspread\n",
    "from oauth2client.service_account import ServiceAccountCredentials"
   ]
  },
  {
   "cell_type": "code",
   "execution_count": 3,
   "id": "74aee73d-52d8-4727-9aa5-cefe1aa1cf98",
   "metadata": {},
   "outputs": [],
   "source": [
    "scope = ['https://spreadsheets.google.com/feeds','https://www.googleapis.com/auth/drive']"
   ]
  },
  {
   "cell_type": "code",
   "execution_count": 4,
   "id": "bf1decc2-6652-4de2-b302-fb4bc5903c6f",
   "metadata": {},
   "outputs": [],
   "source": [
    "credentials = ServiceAccountCredentials.from_json_keyfile_name('myprojexttest-356514-99f5278c6d45.json', scope)"
   ]
  },
  {
   "cell_type": "code",
   "execution_count": 5,
   "id": "99eb3c84-b569-4c63-9b51-33b4ef62c464",
   "metadata": {},
   "outputs": [],
   "source": [
    "gs = gspread.authorize(credentials)"
   ]
  },
  {
   "cell_type": "code",
   "execution_count": 6,
   "id": "ccde63bb-3cdb-4907-ba86-188d99495f8c",
   "metadata": {},
   "outputs": [],
   "source": [
    "SPREADSHEET_KEY = '1Ezu6yhN-SlQu4HJaYtc8o17XMlShyn18jMNVe8sBADs'"
   ]
  },
  {
   "cell_type": "code",
   "execution_count": 7,
   "id": "0ad53a05-f565-42df-95a2-81892683fdf2",
   "metadata": {},
   "outputs": [],
   "source": [
    "worksheet = gs.open_by_key(SPREADSHEET_KEY).worksheet(\"ブートキャンプTリスト\")"
   ]
  },
  {
   "cell_type": "code",
   "execution_count": 8,
   "id": "46693180-6479-45e6-a81f-6fe9437f8189",
   "metadata": {},
   "outputs": [
    {
     "name": "stdout",
     "output_type": "stream",
     "text": [
      "Requirement already satisfied: selenium in /Users/divx/opt/anaconda3/lib/python3.9/site-packages (4.2.0)\n",
      "Requirement already satisfied: trio-websocket~=0.9 in /Users/divx/opt/anaconda3/lib/python3.9/site-packages (from selenium) (0.9.2)\n",
      "Requirement already satisfied: trio~=0.17 in /Users/divx/opt/anaconda3/lib/python3.9/site-packages (from selenium) (0.21.0)\n",
      "Requirement already satisfied: urllib3[secure,socks]~=1.26 in /Users/divx/opt/anaconda3/lib/python3.9/site-packages (from selenium) (1.26.9)\n",
      "Requirement already satisfied: async-generator>=1.9 in /Users/divx/opt/anaconda3/lib/python3.9/site-packages (from trio~=0.17->selenium) (1.10)\n",
      "Requirement already satisfied: sniffio in /Users/divx/opt/anaconda3/lib/python3.9/site-packages (from trio~=0.17->selenium) (1.2.0)\n",
      "Requirement already satisfied: idna in /Users/divx/opt/anaconda3/lib/python3.9/site-packages (from trio~=0.17->selenium) (3.3)\n",
      "Requirement already satisfied: sortedcontainers in /Users/divx/opt/anaconda3/lib/python3.9/site-packages (from trio~=0.17->selenium) (2.4.0)\n",
      "Requirement already satisfied: outcome in /Users/divx/opt/anaconda3/lib/python3.9/site-packages (from trio~=0.17->selenium) (1.1.0)\n",
      "Requirement already satisfied: attrs>=19.2.0 in /Users/divx/opt/anaconda3/lib/python3.9/site-packages (from trio~=0.17->selenium) (21.4.0)\n",
      "Requirement already satisfied: wsproto>=0.14 in /Users/divx/opt/anaconda3/lib/python3.9/site-packages (from trio-websocket~=0.9->selenium) (1.1.0)\n",
      "Requirement already satisfied: certifi in /Users/divx/opt/anaconda3/lib/python3.9/site-packages (from urllib3[secure,socks]~=1.26->selenium) (2021.10.8)\n",
      "Requirement already satisfied: cryptography>=1.3.4 in /Users/divx/opt/anaconda3/lib/python3.9/site-packages (from urllib3[secure,socks]~=1.26->selenium) (3.4.8)\n",
      "Requirement already satisfied: pyOpenSSL>=0.14 in /Users/divx/opt/anaconda3/lib/python3.9/site-packages (from urllib3[secure,socks]~=1.26->selenium) (21.0.0)\n",
      "Requirement already satisfied: PySocks!=1.5.7,<2.0,>=1.5.6 in /Users/divx/opt/anaconda3/lib/python3.9/site-packages (from urllib3[secure,socks]~=1.26->selenium) (1.7.1)\n",
      "Requirement already satisfied: cffi>=1.12 in /Users/divx/opt/anaconda3/lib/python3.9/site-packages (from cryptography>=1.3.4->urllib3[secure,socks]~=1.26->selenium) (1.15.0)\n",
      "Requirement already satisfied: pycparser in /Users/divx/opt/anaconda3/lib/python3.9/site-packages (from cffi>=1.12->cryptography>=1.3.4->urllib3[secure,socks]~=1.26->selenium) (2.21)\n",
      "Requirement already satisfied: six>=1.5.2 in /Users/divx/opt/anaconda3/lib/python3.9/site-packages (from pyOpenSSL>=0.14->urllib3[secure,socks]~=1.26->selenium) (1.16.0)\n",
      "Requirement already satisfied: h11<1,>=0.9.0 in /Users/divx/opt/anaconda3/lib/python3.9/site-packages (from wsproto>=0.14->trio-websocket~=0.9->selenium) (0.13.0)\n"
     ]
    }
   ],
   "source": [
    "!pip install selenium"
   ]
  },
  {
   "cell_type": "code",
   "execution_count": 9,
   "id": "1378bf74-74c3-4c4d-aebf-4df9ccfcc2ae",
   "metadata": {},
   "outputs": [
    {
     "name": "stdout",
     "output_type": "stream",
     "text": [
      "Requirement already satisfied: chromedriver in /Users/divx/opt/anaconda3/lib/python3.9/site-packages (2.24.1)\n",
      "Note: you may need to restart the kernel to use updated packages.\n"
     ]
    }
   ],
   "source": [
    "pip install chromedriver"
   ]
  },
  {
   "cell_type": "code",
   "execution_count": 10,
   "id": "47fee666-4840-4ebd-9719-89110102861f",
   "metadata": {},
   "outputs": [
    {
     "name": "stdout",
     "output_type": "stream",
     "text": [
      "Requirement already satisfied: fake-useragent in /Users/divx/opt/anaconda3/lib/python3.9/site-packages (0.1.11)\n"
     ]
    }
   ],
   "source": [
    "!pip install fake-useragent"
   ]
  },
  {
   "cell_type": "code",
   "execution_count": 11,
   "id": "1e252494-4696-4621-ae7f-e128ca2a996a",
   "metadata": {},
   "outputs": [
    {
     "name": "stdout",
     "output_type": "stream",
     "text": [
      "Requirement already satisfied: webdriver_manager in /Users/divx/opt/anaconda3/lib/python3.9/site-packages (3.8.1)\n",
      "Requirement already satisfied: python-dotenv in /Users/divx/opt/anaconda3/lib/python3.9/site-packages (from webdriver_manager) (0.20.0)\n",
      "Requirement already satisfied: requests in /Users/divx/opt/anaconda3/lib/python3.9/site-packages (from webdriver_manager) (2.27.1)\n",
      "Requirement already satisfied: idna<4,>=2.5 in /Users/divx/opt/anaconda3/lib/python3.9/site-packages (from requests->webdriver_manager) (3.3)\n",
      "Requirement already satisfied: urllib3<1.27,>=1.21.1 in /Users/divx/opt/anaconda3/lib/python3.9/site-packages (from requests->webdriver_manager) (1.26.9)\n",
      "Requirement already satisfied: certifi>=2017.4.17 in /Users/divx/opt/anaconda3/lib/python3.9/site-packages (from requests->webdriver_manager) (2021.10.8)\n",
      "Requirement already satisfied: charset-normalizer~=2.0.0 in /Users/divx/opt/anaconda3/lib/python3.9/site-packages (from requests->webdriver_manager) (2.0.4)\n"
     ]
    }
   ],
   "source": [
    " !pip install webdriver_manager"
   ]
  },
  {
   "cell_type": "code",
   "execution_count": 12,
   "id": "58eb0a6c-5538-4c52-9b1c-c685e9295d6d",
   "metadata": {},
   "outputs": [],
   "source": [
    "from selenium import webdriver\n",
    "from webdriver_manager.chrome import ChromeDriverManager\n",
    "from selenium.webdriver.common.by import By\n",
    "from selenium.webdriver.support.ui import WebDriverWait\n",
    "from selenium.webdriver.common.keys import Keys\n",
    "from time import sleep\n",
    "from fake_useragent import UserAgent\n",
    "import time\n",
    "import numpy as np\n",
    "import requests\n"
   ]
  },
  {
   "cell_type": "code",
   "execution_count": 13,
   "id": "b249c331-64c5-473e-b691-0e6347f6d0e9",
   "metadata": {},
   "outputs": [],
   "source": [
    "url= \"https://httpbin.org/headers\""
   ]
  },
  {
   "cell_type": "code",
   "execution_count": 14,
   "id": "ea1eea3e-43d5-4356-912c-c4d03cbee96d",
   "metadata": {},
   "outputs": [],
   "source": [
    "r=requests.get(url)"
   ]
  },
  {
   "cell_type": "code",
   "execution_count": 15,
   "id": "83429eef-91f8-4a3c-b645-c6b1f227752e",
   "metadata": {},
   "outputs": [
    {
     "name": "stdout",
     "output_type": "stream",
     "text": [
      "{\n",
      "  \"headers\": {\n",
      "    \"Accept\": \"*/*\", \n",
      "    \"Accept-Encoding\": \"gzip, deflate, br\", \n",
      "    \"Host\": \"httpbin.org\", \n",
      "    \"User-Agent\": \"python-requests/2.27.1\", \n",
      "    \"X-Amzn-Trace-Id\": \"Root=1-62de008a-7ecd744542c6ad23767e8bab\"\n",
      "  }\n",
      "}\n",
      "\n"
     ]
    }
   ],
   "source": [
    "print(r.text)"
   ]
  },
  {
   "cell_type": "code",
   "execution_count": 16,
   "id": "28f740bb-d9ae-40ad-84f4-409e0b14646b",
   "metadata": {},
   "outputs": [],
   "source": [
    "#user agent偽装を組み込む\n",
    "\n",
    "ua = UserAgent()"
   ]
  },
  {
   "cell_type": "code",
   "execution_count": 17,
   "id": "f768ee32-3ca5-4a68-8144-9d8c1b56dd7f",
   "metadata": {},
   "outputs": [
    {
     "name": "stdout",
     "output_type": "stream",
     "text": [
      "{\n",
      "  \"headers\": {\n",
      "    \"Accept\": \"*/*\", \n",
      "    \"Accept-Encoding\": \"gzip, deflate, br\", \n",
      "    \"Host\": \"httpbin.org\", \n",
      "    \"User-Agent\": \"Mozilla/5.0 (Macintosh; Intel Mac OS X 10_10_1) AppleWebKit/537.36 (KHTML, like Gecko) Chrome/41.0.2227.1 Safari/537.36\", \n",
      "    \"X-Amzn-Trace-Id\": \"Root=1-62de008b-17fa7f2f6f192cd4552fdc61\"\n",
      "  }\n",
      "}\n",
      "\n"
     ]
    }
   ],
   "source": [
    "headers = { \"User-Agent\":ua.chrome}\n",
    "r = requests.get(url, headers = headers)\n",
    "print(r.text)"
   ]
  },
  {
   "cell_type": "code",
   "execution_count": 18,
   "id": "39f0009f-ac4c-4c59-bb72-737f00871883",
   "metadata": {},
   "outputs": [],
   "source": [
    "url = \"https://httpbin.org/headers\""
   ]
  },
  {
   "cell_type": "code",
   "execution_count": 19,
   "id": "c4bb1813-e8b4-4701-8a9f-b5defbcd54a0",
   "metadata": {},
   "outputs": [],
   "source": [
    "r=requests.get(url, headers = headers)"
   ]
  },
  {
   "cell_type": "code",
   "execution_count": 20,
   "id": "5d221a01-d06d-48c8-87ef-6b1928e0a734",
   "metadata": {},
   "outputs": [
    {
     "name": "stdout",
     "output_type": "stream",
     "text": [
      "{\n",
      "  \"headers\": {\n",
      "    \"Accept\": \"*/*\", \n",
      "    \"Accept-Encoding\": \"gzip, deflate, br\", \n",
      "    \"Host\": \"httpbin.org\", \n",
      "    \"User-Agent\": \"Mozilla/5.0 (Macintosh; Intel Mac OS X 10_10_1) AppleWebKit/537.36 (KHTML, like Gecko) Chrome/41.0.2227.1 Safari/537.36\", \n",
      "    \"X-Amzn-Trace-Id\": \"Root=1-62de008d-781cbcfa7dd7c91936843011\"\n",
      "  }\n",
      "}\n",
      "\n"
     ]
    }
   ],
   "source": [
    "print(r.text)"
   ]
  },
  {
   "cell_type": "code",
   "execution_count": 21,
   "id": "bbdd26f4-624c-49c1-9515-51d45aacb05d",
   "metadata": {},
   "outputs": [],
   "source": [
    "#ランダムな待機時間を設定（これはメソッド化して、各操作前に呼び出したい感じ）\n",
    "\n",
    "def wait_t():\n",
    "    wait_time = float('{:.3f}'.format(np.random.rand()*2+5))\n",
    "    return wait_time"
   ]
  },
  {
   "cell_type": "code",
   "execution_count": 25,
   "id": "a7d37821-a2e0-4762-97df-c2081997918b",
   "metadata": {},
   "outputs": [
    {
     "name": "stdout",
     "output_type": "stream",
     "text": [
      "\n"
     ]
    },
    {
     "name": "stderr",
     "output_type": "stream",
     "text": [
      "/var/folders/z0/3dq3ynpj06sdcjdcl_dqb3lh0000gn/T/ipykernel_49627/2601375615.py:3: DeprecationWarning: executable_path has been deprecated, please pass in a Service object\n",
      "  driver = webdriver.Chrome (ChromeDriverManager().install())\n"
     ]
    }
   ],
   "source": [
    "#ブラウザの立ち上げ\n",
    "\n",
    "driver = webdriver.Chrome (ChromeDriverManager().install())"
   ]
  },
  {
   "cell_type": "code",
   "execution_count": 26,
   "id": "e321100b-5979-41c1-9cf1-f46a07536c27",
   "metadata": {},
   "outputs": [],
   "source": [
    "#Linkedinサイトへアクセス\n",
    "#Linkedinトップページ\n",
    "\n",
    "\n",
    "driver.get('https://www.linkedin.com/login/ja?fromSignIn=true&trk=guest_homepage-basic_nav-header-signin')"
   ]
  },
  {
   "cell_type": "code",
   "execution_count": 27,
   "id": "e0d6681e-7476-4516-8aac-e74fb30b75d1",
   "metadata": {},
   "outputs": [
    {
     "name": "stderr",
     "output_type": "stream",
     "text": [
      "/var/folders/z0/3dq3ynpj06sdcjdcl_dqb3lh0000gn/T/ipykernel_49627/2636651141.py:4: DeprecationWarning: find_element_by_* commands are deprecated. Please use find_element() instead\n",
      "  mail = driver.find_element_by_id(\"username\")\n",
      "/var/folders/z0/3dq3ynpj06sdcjdcl_dqb3lh0000gn/T/ipykernel_49627/2636651141.py:13: DeprecationWarning: find_element_by_* commands are deprecated. Please use find_element() instead\n",
      "  password = driver.find_element_by_id(\"password\")\n",
      "/var/folders/z0/3dq3ynpj06sdcjdcl_dqb3lh0000gn/T/ipykernel_49627/2636651141.py:15: DeprecationWarning: find_element_by_xpath is deprecated. Please use find_element(by=By.XPATH, value=xpath) instead\n",
      "  btn = driver.find_element_by_xpath('//*[@id=\"organic-div\"]/form/div[3]/button')\n"
     ]
    },
    {
     "name": "stdout",
     "output_type": "stream",
     "text": [
      "6.053\n"
     ]
    },
    {
     "ename": "NameError",
     "evalue": "name 'link' is not defined",
     "output_type": "error",
     "traceback": [
      "\u001b[0;31m---------------------------------------------------------------------------\u001b[0m",
      "\u001b[0;31mNameError\u001b[0m                                 Traceback (most recent call last)",
      "Input \u001b[0;32mIn [27]\u001b[0m, in \u001b[0;36m<cell line: 24>\u001b[0;34m()\u001b[0m\n\u001b[1;32m     20\u001b[0m \u001b[38;5;66;03m#サインインボタン押す\u001b[39;00m\n\u001b[1;32m     22\u001b[0m btn\u001b[38;5;241m.\u001b[39mclick()\n\u001b[0;32m---> 24\u001b[0m \u001b[38;5;28mprint\u001b[39m(\u001b[43mlink\u001b[49m\u001b[38;5;241m.\u001b[39mtext)\n",
      "\u001b[0;31mNameError\u001b[0m: name 'link' is not defined"
     ]
    }
   ],
   "source": [
    "#自動ログイン\n",
    "#ユーザー名入力\n",
    "\n",
    "mail = driver.find_element_by_id(\"username\")\n",
    "mail.send_keys(\"mail@mail.co.jp\")\n",
    "\n",
    "#間隔空ける\n",
    "\n",
    "time.sleep(wait_t())\n",
    "\n",
    "#パスワード入力\n",
    "\n",
    "password = driver.find_element_by_id(\"password\")\n",
    "password.send_keys(\"password\")\n",
    "btn = driver.find_element_by_xpath('//*[@id=\"organic-div\"]/form/div[3]/button')\n",
    "\n",
    "time.sleep(wait_t())\n",
    "print(wait_t())\n",
    "\n",
    "#サインインボタン押す\n",
    "\n",
    "btn.click()\n",
    "\n",
    "print(link.text)"
   ]
  },
  {
   "cell_type": "code",
   "execution_count": 28,
   "id": "bee430db-1b8c-46f8-aff2-784cb58d1688",
   "metadata": {},
   "outputs": [
    {
     "name": "stdout",
     "output_type": "stream",
     "text": [
      "初めまして。\n",
      "投稿を読んで面白いと思いました。\n",
      "\n",
      "更新楽しみにしています。\n"
     ]
    },
    {
     "name": "stderr",
     "output_type": "stream",
     "text": [
      "/var/folders/z0/3dq3ynpj06sdcjdcl_dqb3lh0000gn/T/ipykernel_49627/3953161614.py:34: DeprecationWarning: find_element_by_class_name is deprecated. Please use find_element(by=By.CLASS_NAME, value=name) instead\n",
      "  input_element = driver.find_element_by_class_name('search-global-typeahead__input')\n"
     ]
    },
    {
     "name": "stdout",
     "output_type": "stream",
     "text": [
      "5.447\n",
      "5.088\n",
      "パターン１つながり申請ボタンが存在しません\n"
     ]
    },
    {
     "name": "stderr",
     "output_type": "stream",
     "text": [
      "/var/folders/z0/3dq3ynpj06sdcjdcl_dqb3lh0000gn/T/ipykernel_49627/3953161614.py:46: DeprecationWarning: find_element_by_xpath is deprecated. Please use find_element(by=By.XPATH, value=xpath) instead\n",
      "  e=driver.find_element_by_xpath(\"/html/body/div[5]/div[3]/div[2]/div/div[1]/main/div/div/div[1]/ul/li[1]/div/div/div[3]/div/button/span\")\n"
     ]
    },
    {
     "name": "stdout",
     "output_type": "stream",
     "text": [
      "5.745\n"
     ]
    },
    {
     "name": "stderr",
     "output_type": "stream",
     "text": [
      "/var/folders/z0/3dq3ynpj06sdcjdcl_dqb3lh0000gn/T/ipykernel_49627/3953161614.py:59: DeprecationWarning: find_element_by_xpath is deprecated. Please use find_element(by=By.XPATH, value=xpath) instead\n",
      "  e=driver.find_element_by_xpath(\"/html/body/div[6]/div[3]/div[2]/div/div[1]/main/div/div/div[1]/ul/li[1]/div/div/div[3]/div/button/span\")\n"
     ]
    },
    {
     "name": "stdout",
     "output_type": "stream",
     "text": [
      "パターン2つながり申請ボタンが存在しません\n",
      "6.414\n",
      "パターン3つながり申請ボタンが存在しません\n"
     ]
    },
    {
     "name": "stderr",
     "output_type": "stream",
     "text": [
      "/var/folders/z0/3dq3ynpj06sdcjdcl_dqb3lh0000gn/T/ipykernel_49627/3953161614.py:72: DeprecationWarning: find_element_by_xpath is deprecated. Please use find_element(by=By.XPATH, value=xpath) instead\n",
      "  e=driver.find_element_by_xpath(\"/html/body/div[6]/div[3]/div[2]/div/div[1]/main/div/div/div[2]/ul/li[1]/div/div/div[3]/div/button/span\")\n"
     ]
    },
    {
     "name": "stdout",
     "output_type": "stream",
     "text": [
      "5.414\n",
      "パターン4つながり申請ボタンが存在しません\n"
     ]
    },
    {
     "name": "stderr",
     "output_type": "stream",
     "text": [
      "/var/folders/z0/3dq3ynpj06sdcjdcl_dqb3lh0000gn/T/ipykernel_49627/3953161614.py:85: DeprecationWarning: find_element_by_xpath is deprecated. Please use find_element(by=By.XPATH, value=xpath) instead\n",
      "  e=driver.find_element_by_xpath(\"/html/body/div[5]/div[3]/div[2]/div/div[1]/main/div/div/div/div/a/div/div[2]/div[1]/button/span\")\n"
     ]
    },
    {
     "name": "stdout",
     "output_type": "stream",
     "text": [
      "6.709\n",
      "パターン5つながり申請ボタンが存在しません\n"
     ]
    },
    {
     "name": "stderr",
     "output_type": "stream",
     "text": [
      "/var/folders/z0/3dq3ynpj06sdcjdcl_dqb3lh0000gn/T/ipykernel_49627/3953161614.py:98: DeprecationWarning: find_element_by_xpath is deprecated. Please use find_element(by=By.XPATH, value=xpath) instead\n",
      "  e=driver.find_element_by_xpath(\"/html/body/div[6]/div[3]/div[2]/div/div[1]/main/div/div/div/div/a/div/div[2]/div[1]/button/span\")\n"
     ]
    },
    {
     "name": "stdout",
     "output_type": "stream",
     "text": [
      "5.708\n",
      "パターン6つながり申請ボタンが存在しません\n"
     ]
    },
    {
     "name": "stderr",
     "output_type": "stream",
     "text": [
      "/var/folders/z0/3dq3ynpj06sdcjdcl_dqb3lh0000gn/T/ipykernel_49627/3953161614.py:111: DeprecationWarning: find_element_by_xpath is deprecated. Please use find_element(by=By.XPATH, value=xpath) instead\n",
      "  e=driver.find_element_by_xpath(\"/html/body/div[4]/div[3]/div[2]/div/div[1]/main/div/div/div/div/a/div/div[2]/div[2]/button/span\")\n"
     ]
    },
    {
     "name": "stdout",
     "output_type": "stream",
     "text": [
      "5.422\n",
      "メッセージが送信できません\n",
      "新UIが存在しません\n",
      "新UI例外ー１\n",
      "新UI例外ー２\n",
      "新UIにてメッセージが送信できません\n",
      "-11\n"
     ]
    },
    {
     "name": "stderr",
     "output_type": "stream",
     "text": [
      "/var/folders/z0/3dq3ynpj06sdcjdcl_dqb3lh0000gn/T/ipykernel_49627/3953161614.py:124: DeprecationWarning: find_element_by_xpath is deprecated. Please use find_element(by=By.XPATH, value=xpath) instead\n",
      "  driver.find_element_by_xpath(\"/html/body/div[3]/div/div/div[3]/button[1]/span\").click()\n",
      "/var/folders/z0/3dq3ynpj06sdcjdcl_dqb3lh0000gn/T/ipykernel_49627/3953161614.py:142: DeprecationWarning: find_element_by_xpath is deprecated. Please use find_element(by=By.XPATH, value=xpath) instead\n",
      "  driver.find_element_by_xpath(\"/html/body/div[3]/div/div/div[2]/div/button[5]/span\").click()\n",
      "/var/folders/z0/3dq3ynpj06sdcjdcl_dqb3lh0000gn/T/ipykernel_49627/3953161614.py:151: DeprecationWarning: find_element_by_xpath is deprecated. Please use find_element(by=By.XPATH, value=xpath) instead\n",
      "  driver.find_element_by_xpath(\"/html/body/div[3]/div/div/div[3]/button/span\").click()\n",
      "/var/folders/z0/3dq3ynpj06sdcjdcl_dqb3lh0000gn/T/ipykernel_49627/3953161614.py:160: DeprecationWarning: find_element_by_xpath is deprecated. Please use find_element(by=By.XPATH, value=xpath) instead\n",
      "  driver.find_element_by_xpath(\"/html/body/div[3]/div/div/div[3]/button[1]/span\").click()\n",
      "/var/folders/z0/3dq3ynpj06sdcjdcl_dqb3lh0000gn/T/ipykernel_49627/3953161614.py:169: DeprecationWarning: find_element_by_xpath is deprecated. Please use find_element(by=By.XPATH, value=xpath) instead\n",
      "  driver.find_element_by_xpath(\"/html/body/div[3]/div/div/div[3]/button[1]/span\").click()\n"
     ]
    },
    {
     "name": "stdout",
     "output_type": "stream",
     "text": [
      "初めまして。\n",
      "投稿を読んで面白いと思いました。\n",
      "\n",
      "更新楽しみにしています。\n"
     ]
    },
    {
     "ename": "ElementNotInteractableException",
     "evalue": "Message: element not interactable\n  (Session info: chrome=103.0.5060.134)\nStacktrace:\n0   chromedriver                        0x00000001012c8ef9 chromedriver + 4480761\n1   chromedriver                        0x00000001012545d3 chromedriver + 4003283\n2   chromedriver                        0x0000000100ee71ef chromedriver + 410095\n3   chromedriver                        0x0000000100f178af chromedriver + 608431\n4   chromedriver                        0x0000000100f16e9d chromedriver + 605853\n5   chromedriver                        0x0000000100f3aa62 chromedriver + 752226\n6   chromedriver                        0x0000000100f121f5 chromedriver + 586229\n7   chromedriver                        0x0000000100f3ab6e chromedriver + 752494\n8   chromedriver                        0x0000000100f4d4f1 chromedriver + 828657\n9   chromedriver                        0x0000000100f3a953 chromedriver + 751955\n10  chromedriver                        0x0000000100f10cd5 chromedriver + 580821\n11  chromedriver                        0x0000000100f11d25 chromedriver + 584997\n12  chromedriver                        0x000000010129a02d chromedriver + 4288557\n13  chromedriver                        0x000000010129f1b3 chromedriver + 4309427\n14  chromedriver                        0x00000001012a423f chromedriver + 4330047\n15  chromedriver                        0x000000010129fdfa chromedriver + 4312570\n16  chromedriver                        0x0000000101278fef chromedriver + 4153327\n17  chromedriver                        0x00000001012b9d78 chromedriver + 4418936\n18  chromedriver                        0x00000001012b9eff chromedriver + 4419327\n19  chromedriver                        0x00000001012d0ab5 chromedriver + 4512437\n20  libsystem_pthread.dylib             0x00007ff8035e9514 _pthread_start + 125\n21  libsystem_pthread.dylib             0x00007ff8035e502f thread_start + 15\n",
     "output_type": "error",
     "traceback": [
      "\u001b[0;31m---------------------------------------------------------------------------\u001b[0m",
      "\u001b[0;31mElementNotInteractableException\u001b[0m           Traceback (most recent call last)",
      "Input \u001b[0;32mIn [28]\u001b[0m, in \u001b[0;36m<cell line: 4>\u001b[0;34m()\u001b[0m\n\u001b[1;32m     26\u001b[0m search_user \u001b[38;5;241m=\u001b[39m driver\u001b[38;5;241m.\u001b[39mfind_element(By\u001b[38;5;241m.\u001b[39mCLASS_NAME, \u001b[38;5;124m\"\u001b[39m\u001b[38;5;124msearch-global-typeahead__input\u001b[39m\u001b[38;5;124m\"\u001b[39m)\n\u001b[1;32m     28\u001b[0m \u001b[38;5;28;01mif\u001b[39;00m position \u001b[38;5;129;01mis\u001b[39;00m \u001b[38;5;28;01mNone\u001b[39;00m \u001b[38;5;129;01mor\u001b[39;00m \u001b[38;5;124m\"\u001b[39m\u001b[38;5;124m#N/A\u001b[39m\u001b[38;5;124m\"\u001b[39m:\n\u001b[0;32m---> 29\u001b[0m     \u001b[43msearch_user\u001b[49m\u001b[38;5;241;43m.\u001b[39;49m\u001b[43msend_keys\u001b[49m\u001b[43m(\u001b[49m\u001b[43mcompany\u001b[49m\u001b[43m \u001b[49m\u001b[38;5;241;43m+\u001b[39;49m\u001b[43m \u001b[49m\u001b[38;5;124;43m\"\u001b[39;49m\u001b[38;5;124;43m \u001b[39;49m\u001b[38;5;124;43m\"\u001b[39;49m\u001b[43m \u001b[49m\u001b[38;5;241;43m+\u001b[39;49m\u001b[43m \u001b[49m\u001b[43mname\u001b[49m\u001b[43m)\u001b[49m\n\u001b[1;32m     30\u001b[0m \u001b[38;5;28;01melse\u001b[39;00m:\n\u001b[1;32m     31\u001b[0m     search_user\u001b[38;5;241m.\u001b[39msend_keys(company \u001b[38;5;241m+\u001b[39m \u001b[38;5;124m\"\u001b[39m\u001b[38;5;124m \u001b[39m\u001b[38;5;124m\"\u001b[39m \u001b[38;5;241m+\u001b[39m position \u001b[38;5;241m+\u001b[39m \u001b[38;5;124m\"\u001b[39m\u001b[38;5;124m \u001b[39m\u001b[38;5;124m\"\u001b[39m \u001b[38;5;241m+\u001b[39m name)\n",
      "File \u001b[0;32m~/opt/anaconda3/lib/python3.9/site-packages/selenium/webdriver/remote/webelement.py:600\u001b[0m, in \u001b[0;36mWebElement.send_keys\u001b[0;34m(self, *value)\u001b[0m\n\u001b[1;32m    597\u001b[0m             remote_files\u001b[38;5;241m.\u001b[39mappend(\u001b[38;5;28mself\u001b[39m\u001b[38;5;241m.\u001b[39m_upload(file))\n\u001b[1;32m    598\u001b[0m         value \u001b[38;5;241m=\u001b[39m \u001b[38;5;124m'\u001b[39m\u001b[38;5;130;01m\\n\u001b[39;00m\u001b[38;5;124m'\u001b[39m\u001b[38;5;241m.\u001b[39mjoin(remote_files)\n\u001b[0;32m--> 600\u001b[0m \u001b[38;5;28;43mself\u001b[39;49m\u001b[38;5;241;43m.\u001b[39;49m\u001b[43m_execute\u001b[49m\u001b[43m(\u001b[49m\u001b[43mCommand\u001b[49m\u001b[38;5;241;43m.\u001b[39;49m\u001b[43mSEND_KEYS_TO_ELEMENT\u001b[49m\u001b[43m,\u001b[49m\n\u001b[1;32m    601\u001b[0m \u001b[43m              \u001b[49m\u001b[43m{\u001b[49m\u001b[38;5;124;43m'\u001b[39;49m\u001b[38;5;124;43mtext\u001b[39;49m\u001b[38;5;124;43m'\u001b[39;49m\u001b[43m:\u001b[49m\u001b[43m \u001b[49m\u001b[38;5;124;43m\"\u001b[39;49m\u001b[38;5;124;43m\"\u001b[39;49m\u001b[38;5;241;43m.\u001b[39;49m\u001b[43mjoin\u001b[49m\u001b[43m(\u001b[49m\u001b[43mkeys_to_typing\u001b[49m\u001b[43m(\u001b[49m\u001b[43mvalue\u001b[49m\u001b[43m)\u001b[49m\u001b[43m)\u001b[49m\u001b[43m,\u001b[49m\n\u001b[1;32m    602\u001b[0m \u001b[43m               \u001b[49m\u001b[38;5;124;43m'\u001b[39;49m\u001b[38;5;124;43mvalue\u001b[39;49m\u001b[38;5;124;43m'\u001b[39;49m\u001b[43m:\u001b[49m\u001b[43m \u001b[49m\u001b[43mkeys_to_typing\u001b[49m\u001b[43m(\u001b[49m\u001b[43mvalue\u001b[49m\u001b[43m)\u001b[49m\u001b[43m}\u001b[49m\u001b[43m)\u001b[49m\n",
      "File \u001b[0;32m~/opt/anaconda3/lib/python3.9/site-packages/selenium/webdriver/remote/webelement.py:773\u001b[0m, in \u001b[0;36mWebElement._execute\u001b[0;34m(self, command, params)\u001b[0m\n\u001b[1;32m    771\u001b[0m     params \u001b[38;5;241m=\u001b[39m {}\n\u001b[1;32m    772\u001b[0m params[\u001b[38;5;124m'\u001b[39m\u001b[38;5;124mid\u001b[39m\u001b[38;5;124m'\u001b[39m] \u001b[38;5;241m=\u001b[39m \u001b[38;5;28mself\u001b[39m\u001b[38;5;241m.\u001b[39m_id\n\u001b[0;32m--> 773\u001b[0m \u001b[38;5;28;01mreturn\u001b[39;00m \u001b[38;5;28;43mself\u001b[39;49m\u001b[38;5;241;43m.\u001b[39;49m\u001b[43m_parent\u001b[49m\u001b[38;5;241;43m.\u001b[39;49m\u001b[43mexecute\u001b[49m\u001b[43m(\u001b[49m\u001b[43mcommand\u001b[49m\u001b[43m,\u001b[49m\u001b[43m \u001b[49m\u001b[43mparams\u001b[49m\u001b[43m)\u001b[49m\n",
      "File \u001b[0;32m~/opt/anaconda3/lib/python3.9/site-packages/selenium/webdriver/remote/webdriver.py:430\u001b[0m, in \u001b[0;36mWebDriver.execute\u001b[0;34m(self, driver_command, params)\u001b[0m\n\u001b[1;32m    428\u001b[0m response \u001b[38;5;241m=\u001b[39m \u001b[38;5;28mself\u001b[39m\u001b[38;5;241m.\u001b[39mcommand_executor\u001b[38;5;241m.\u001b[39mexecute(driver_command, params)\n\u001b[1;32m    429\u001b[0m \u001b[38;5;28;01mif\u001b[39;00m response:\n\u001b[0;32m--> 430\u001b[0m     \u001b[38;5;28;43mself\u001b[39;49m\u001b[38;5;241;43m.\u001b[39;49m\u001b[43merror_handler\u001b[49m\u001b[38;5;241;43m.\u001b[39;49m\u001b[43mcheck_response\u001b[49m\u001b[43m(\u001b[49m\u001b[43mresponse\u001b[49m\u001b[43m)\u001b[49m\n\u001b[1;32m    431\u001b[0m     response[\u001b[38;5;124m'\u001b[39m\u001b[38;5;124mvalue\u001b[39m\u001b[38;5;124m'\u001b[39m] \u001b[38;5;241m=\u001b[39m \u001b[38;5;28mself\u001b[39m\u001b[38;5;241m.\u001b[39m_unwrap_value(\n\u001b[1;32m    432\u001b[0m         response\u001b[38;5;241m.\u001b[39mget(\u001b[38;5;124m'\u001b[39m\u001b[38;5;124mvalue\u001b[39m\u001b[38;5;124m'\u001b[39m, \u001b[38;5;28;01mNone\u001b[39;00m))\n\u001b[1;32m    433\u001b[0m     \u001b[38;5;28;01mreturn\u001b[39;00m response\n",
      "File \u001b[0;32m~/opt/anaconda3/lib/python3.9/site-packages/selenium/webdriver/remote/errorhandler.py:247\u001b[0m, in \u001b[0;36mErrorHandler.check_response\u001b[0;34m(self, response)\u001b[0m\n\u001b[1;32m    245\u001b[0m         alert_text \u001b[38;5;241m=\u001b[39m value[\u001b[38;5;124m'\u001b[39m\u001b[38;5;124malert\u001b[39m\u001b[38;5;124m'\u001b[39m]\u001b[38;5;241m.\u001b[39mget(\u001b[38;5;124m'\u001b[39m\u001b[38;5;124mtext\u001b[39m\u001b[38;5;124m'\u001b[39m)\n\u001b[1;32m    246\u001b[0m     \u001b[38;5;28;01mraise\u001b[39;00m exception_class(message, screen, stacktrace, alert_text)  \u001b[38;5;66;03m# type: ignore[call-arg]  # mypy is not smart enough here\u001b[39;00m\n\u001b[0;32m--> 247\u001b[0m \u001b[38;5;28;01mraise\u001b[39;00m exception_class(message, screen, stacktrace)\n",
      "\u001b[0;31mElementNotInteractableException\u001b[0m: Message: element not interactable\n  (Session info: chrome=103.0.5060.134)\nStacktrace:\n0   chromedriver                        0x00000001012c8ef9 chromedriver + 4480761\n1   chromedriver                        0x00000001012545d3 chromedriver + 4003283\n2   chromedriver                        0x0000000100ee71ef chromedriver + 410095\n3   chromedriver                        0x0000000100f178af chromedriver + 608431\n4   chromedriver                        0x0000000100f16e9d chromedriver + 605853\n5   chromedriver                        0x0000000100f3aa62 chromedriver + 752226\n6   chromedriver                        0x0000000100f121f5 chromedriver + 586229\n7   chromedriver                        0x0000000100f3ab6e chromedriver + 752494\n8   chromedriver                        0x0000000100f4d4f1 chromedriver + 828657\n9   chromedriver                        0x0000000100f3a953 chromedriver + 751955\n10  chromedriver                        0x0000000100f10cd5 chromedriver + 580821\n11  chromedriver                        0x0000000100f11d25 chromedriver + 584997\n12  chromedriver                        0x000000010129a02d chromedriver + 4288557\n13  chromedriver                        0x000000010129f1b3 chromedriver + 4309427\n14  chromedriver                        0x00000001012a423f chromedriver + 4330047\n15  chromedriver                        0x000000010129fdfa chromedriver + 4312570\n16  chromedriver                        0x0000000101278fef chromedriver + 4153327\n17  chromedriver                        0x00000001012b9d78 chromedriver + 4418936\n18  chromedriver                        0x00000001012b9eff chromedriver + 4419327\n19  chromedriver                        0x00000001012d0ab5 chromedriver + 4512437\n20  libsystem_pthread.dylib             0x00007ff8035e9514 _pthread_start + 125\n21  libsystem_pthread.dylib             0x00007ff8035e502f thread_start + 15\n"
     ]
    }
   ],
   "source": [
    "#行番号\n",
    "i=8694\n",
    "\n",
    "for search in range(4):\n",
    "    #定量化の値をリセット\n",
    "    fail=0\n",
    "    success=0\n",
    "    total=0\n",
    "    \n",
    "    #スプレッドシートからの読み込み\n",
    "    i+=1\n",
    "    s1 = \"H\"+str(i)\n",
    "    company=worksheet.acell(s1).value \n",
    "    \n",
    "    s2 = \"J\"+str(i)\n",
    "    position=worksheet.acell(s2).value \n",
    "    \n",
    "    s3 = \"K\"+str(i)\n",
    "    name=worksheet.acell(s3).value\n",
    "    \n",
    "    #message = name+\"様\\n\"+\"初めまして。\\n投稿を読んで面白いと思いました。\\n\\n更新楽しみにしています。\"\n",
    "    message = \"初めまして。\\n投稿を読んで面白いと思いました。\\n\\n更新楽しみにしています。\"\n",
    "    print(message)\n",
    "\n",
    "    #検索実施\n",
    "    search_user = driver.find_element(By.CLASS_NAME, \"search-global-typeahead__input\")\n",
    "   \n",
    "    if position is None or \"#N/A\":\n",
    "        search_user.send_keys(company + \" \" + name)\n",
    "    else:\n",
    "        search_user.send_keys(company + \" \" + position + \" \" + name)\n",
    "    #search_user.send_keys(company)\n",
    "    \n",
    "    input_element = driver.find_element_by_class_name('search-global-typeahead__input')\n",
    "    time.sleep(wait_t())\n",
    "    print(wait_t())\n",
    "    \n",
    "    input_element.send_keys(Keys.ENTER)\n",
    "    time.sleep(wait_t())\n",
    "    print(wait_t())\n",
    "    \n",
    "    \n",
    "    #つながり申請ボタンの押下\n",
    "    #UIパターン１（原則パターン）\n",
    "    try:\n",
    "        e=driver.find_element_by_xpath(\"/html/body/div[5]/div[3]/div[2]/div/div[1]/main/div/div/div[1]/ul/li[1]/div/div/div[3]/div/button/span\")\n",
    "        e.click()\n",
    "        time.sleep(wait_t())\n",
    "        print(wait_t())\n",
    "    except Exception: \n",
    "        print(\"パターン１つながり申請ボタンが存在しません\") \n",
    "        time.sleep(wait_t())   \n",
    "        print(wait_t())\n",
    "        \n",
    "        fail-=1\n",
    "        \n",
    "    #UIパターン2（原則パターンでxpathの値が変わっている場合）\n",
    "    try:\n",
    "        e=driver.find_element_by_xpath(\"/html/body/div[6]/div[3]/div[2]/div/div[1]/main/div/div/div[1]/ul/li[1]/div/div/div[3]/div/button/span\")\n",
    "        e.click()                       \n",
    "        time.sleep(wait_t())\n",
    "        print(wait_t())\n",
    "    except Exception: \n",
    "        print(\"パターン2つながり申請ボタンが存在しません\") \n",
    "        time.sleep(wait_t())   \n",
    "        print(wait_t())\n",
    "        \n",
    "        fail-=1\n",
    "      \n",
    "    #UIパターン3（検索結果とともに会社のリンクがトップに表示されるパターン）\n",
    "    try:\n",
    "        e=driver.find_element_by_xpath(\"/html/body/div[6]/div[3]/div[2]/div/div[1]/main/div/div/div[2]/ul/li[1]/div/div/div[3]/div/button/span\")\n",
    "        e.click()                       \n",
    "        time.sleep(wait_t())\n",
    "        print(wait_t())\n",
    "    except Exception: \n",
    "        print(\"パターン3つながり申請ボタンが存在しません\") \n",
    "        time.sleep(wait_t())   \n",
    "        print(wait_t())\n",
    "        \n",
    "        fail-=1\n",
    "    \n",
    "    #UIパターン4（フルネーム検索した場合（右：プロフィールと左：繋がり申請ボタンが並んでいる））\n",
    "    try:\n",
    "        e=driver.find_element_by_xpath(\"/html/body/div[5]/div[3]/div[2]/div/div[1]/main/div/div/div/div/a/div/div[2]/div[1]/button/span\")\n",
    "        e.click()\n",
    "        time.sleep(wait_t())\n",
    "        print(wait_t())\n",
    "    except Exception: \n",
    "        print(\"パターン4つながり申請ボタンが存在しません\") \n",
    "        time.sleep(wait_t())   \n",
    "        print(wait_t()) \n",
    "        \n",
    "        fail-=1\n",
    "        \n",
    "    #UIパターン5（フルネーム検索した場合でxpathが異なる（右：プロフィールと左：繋がり申請ボタンが並んでいる））\n",
    "    try:\n",
    "        e=driver.find_element_by_xpath(\"/html/body/div[6]/div[3]/div[2]/div/div[1]/main/div/div/div/div/a/div/div[2]/div[1]/button/span\")\n",
    "        e.click()\n",
    "        time.sleep(wait_t())\n",
    "        print(wait_t())\n",
    "    except Exception: \n",
    "        print(\"パターン5つながり申請ボタンが存在しません\") \n",
    "        time.sleep(wait_t())   \n",
    "        print(wait_t()) \n",
    "        \n",
    "        fail-=1    \n",
    "        \n",
    "    #UIパターン6（フルネーム検索をして、ボタンが左右入れ替わっている場合（左：プロフィールと右：繋がり申請ボタン））\n",
    "    try:\n",
    "        e=driver.find_element_by_xpath(\"/html/body/div[4]/div[3]/div[2]/div/div[1]/main/div/div/div/div/a/div/div[2]/div[2]/button/span\")\n",
    "        e.click()\n",
    "        time.sleep(wait_t())\n",
    "        print(wait_t())\n",
    "    except Exception: \n",
    "        print(\"パターン6つながり申請ボタンが存在しません\") \n",
    "        time.sleep(wait_t())   \n",
    "        print(wait_t())\n",
    "        \n",
    "        fail-=1\n",
    "        \n",
    "    #UIパターン7（フルネーム検索をして、ボタンが左右入れ替わっていてxpathが異なる場合ーその１（左：プロフィールと右：繋がり申請ボタン））\n",
    "    try:\n",
    "        e=driver.find_element_by_xpath(\"/html/body/div[5]/div[3]/div[2]/div/div[1]/main/div/div/div/div/a/div/div[2]/div[2]/button/span\")\n",
    "        e.click()\n",
    "        time.sleep(wait_t())\n",
    "        print(wait_t())\n",
    "    except Exception: \n",
    "        print(\"パターン7つながり申請ボタンが存在しません\") \n",
    "        time.sleep(wait_t())   \n",
    "        print(wait_t())\n",
    "        \n",
    "        fail-=1\n",
    "        \n",
    "    #UIパターン8（フルネーム検索をして、ボタンが左右入れ替わっていてxpathが異なる場合ーその２（左：プロフィールと右：繋がり申請ボタン））\n",
    "    try:\n",
    "        e=driver.find_element_by_xpath(\"/html/body/div[6]/div[3]/div[2]/div/div[1]/main/div/div/div/div/a/div/div[2]/div[2]/button/span\")\n",
    "        e.click()\n",
    "        time.sleep(wait_t())\n",
    "        print(wait_t())\n",
    "    except Exception: \n",
    "        print(\"パターン8つながり申請ボタンが存在しません\") \n",
    "        time.sleep(wait_t())   \n",
    "        print(wait_t())\n",
    "        \n",
    "        fail-=1      \n",
    "        \n",
    "    \n",
    "    #つながり申請時のメッセージの送信\n",
    "    try:\n",
    "        driver.find_element_by_xpath(\"/html/body/div[3]/div/div/div[3]/button[1]/span\").click()\n",
    "        custom_message = driver.find_element_by_id(\"custom-message\")\n",
    "        custom_message.send_keys(message)\n",
    "        time.sleep(wait_t())\n",
    "        print(wait_t())\n",
    "        driver.find_element_by_xpath(\"/html/body/div[3]/div/div/div[3]/button[2]/span\").click()\n",
    "        print(r.text) \n",
    "        \n",
    "        success+=100\n",
    "        \n",
    "        \n",
    "    except Exception: \n",
    "        print(\"メッセージが送信できません\")\n",
    "        fail-=1\n",
    "        \n",
    "    #新UIへの対応\n",
    "    try:\n",
    "        #新UIでdont know each other を押下\n",
    "        driver.find_element_by_xpath(\"/html/body/div[3]/div/div/div[2]/div/button[5]/span\").click()\n",
    "        time.sleep(wait_t())\n",
    "        print(wait_t())\n",
    "    except Exception: \n",
    "        print(\"新UIが存在しません\")\n",
    "        fail-=1\n",
    "        \n",
    "    try:    \n",
    "        #つながるを押下\n",
    "        driver.find_element_by_xpath(\"/html/body/div[3]/div/div/div[3]/button/span\").click()\n",
    "        time.sleep(wait_t())\n",
    "        print(wait_t())\n",
    "    except Exception: \n",
    "        print(\"新UI例外ー１\")\n",
    "        fail-=1\n",
    "    \n",
    "    try:\n",
    "        #さらに、つながるを押下\n",
    "        driver.find_element_by_xpath(\"/html/body/div[3]/div/div/div[3]/button[1]/span\").click()\n",
    "        time.sleep(wait_t())\n",
    "        print(wait_t())\n",
    "    except Exception: \n",
    "        print(\"新UI例外ー２\")    \n",
    "        fail-=1\n",
    "    \n",
    "    try:\n",
    "        #メッセージを追加を押下\n",
    "        driver.find_element_by_xpath(\"/html/body/div[3]/div/div/div[3]/button[1]/span\").click()\n",
    "        time.sleep(wait_t())\n",
    "        print(wait_t())\n",
    "\n",
    "        #テキストボックスにメッセージを記入\n",
    "        custom_message = driver.find_element_by_id(\"custom-message\")\n",
    "        time.sleep(wait_t())\n",
    "        custom_message.send_keys(message)\n",
    "        time.sleep(wait_t())\n",
    "        print(wait_t())\n",
    "    \n",
    "        #送信を押下\n",
    "        driver.find_element_by_xpath(\"/html/body/div[3]/div/div/div[3]/button[2]/span\").click()\n",
    "        time.sleep(wait_t())\n",
    "        print(wait_t())\n",
    "        \n",
    "        success+=100\n",
    "        \n",
    "    except Exception: \n",
    "        print(\"新UIにてメッセージが送信できません\")  \n",
    "        \n",
    "        fail-=1\n",
    "              \n",
    "    finally:\n",
    "        total=success+fail\n",
    "        print(total)\n",
    "        #結果をスプレッドシートへ書き込み\n",
    "        worksheet = gs.open_by_key(SPREADSHEET_KEY).worksheet('ブートキャンプTリスト')\n",
    "        cell = \"G\"+str(i)\n",
    "        if total<0 :\n",
    "            worksheet.update_acell(cell, 'true')\n",
    "        \n",
    "        driver.get('https://jp.linkedin.com/')\n",
    "    \n",
    "    \n",
    "    "
   ]
  },
  {
   "cell_type": "code",
   "execution_count": null,
   "id": "ee13bee7-da54-459d-9c4a-c50a660d1a61",
   "metadata": {},
   "outputs": [],
   "source": []
  },
  {
   "cell_type": "code",
   "execution_count": null,
   "id": "f6dda8e0-90fd-4d91-aa03-2321adfe2b2c",
   "metadata": {},
   "outputs": [],
   "source": []
  },
  {
   "cell_type": "code",
   "execution_count": null,
   "id": "77435fff-2fca-4757-9ba1-fe01f9ad8956",
   "metadata": {},
   "outputs": [],
   "source": []
  },
  {
   "cell_type": "code",
   "execution_count": null,
   "id": "1bf83a53-29d9-4e17-949f-34a1696e4ecf",
   "metadata": {},
   "outputs": [],
   "source": []
  }
 ],
 "metadata": {
  "kernelspec": {
   "display_name": "Python 3 (ipykernel)",
   "language": "python",
   "name": "python3"
  },
  "language_info": {
   "codemirror_mode": {
    "name": "ipython",
    "version": 3
   },
   "file_extension": ".py",
   "mimetype": "text/x-python",
   "name": "python",
   "nbconvert_exporter": "python",
   "pygments_lexer": "ipython3",
   "version": "3.9.12"
  }
 },
 "nbformat": 4,
 "nbformat_minor": 5
}
